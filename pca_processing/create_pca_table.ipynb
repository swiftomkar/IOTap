{
 "cells": [
  {
   "cell_type": "code",
   "execution_count": 1,
   "metadata": {
    "collapsed": true
   },
   "outputs": [],
   "source": [
    "import os\n",
    "import glob\n",
    "import sys\n",
    "import json\n",
    "import pandas as pd\n",
    "import matplotlib.pyplot as plt\n",
    "from sklearn.decomposition import PCA\n",
    "from sklearn.preprocessing import StandardScaler\n",
    "import numpy as np\n",
    "import seaborn as sns\n",
    "\n"
   ]
  },
  {
   "cell_type": "code",
   "execution_count": 2,
   "outputs": [],
   "source": [
    "os.chdir(\"/media/odesai/data/analyzed_traces/ssdtrace_out/\")\n",
    "#ssdtrace = \"./ssdtrace_all/\"\n",
    "#systor = \"./systor-all/\"\n",
    "pca_attribute_dicts = []\n",
    "files = os.listdir()\n",
    "for file in files:\n",
    "    #print(file)\n",
    "    fp = open(file, 'r')\n",
    "    trace = json.load(fp)\n",
    "    fp.close()\n",
    "    trace['trace'] = file.split('.')[0]\n",
    "    trace['trace_label'] = \"ssdtrace\" #file.split('.')[0]\n",
    "    pca_attribute_dicts.append(trace)"
   ],
   "metadata": {
    "collapsed": false,
    "pycharm": {
     "name": "#%%\n"
    }
   }
  },
  {
   "cell_type": "code",
   "execution_count": 3,
   "outputs": [],
   "source": [
    "os.chdir(\"/media/odesai/data/analyzed_traces/systor_out/\")\n",
    "dirs = os.listdir()\n",
    "for dir in dirs:\n",
    "    files = os.listdir(dir)\n",
    "    for file in files:\n",
    "        fp = open(dir+\"/\"+file, 'r')\n",
    "        trace = json.load(fp)\n",
    "        fp.close()\n",
    "        trace['trace'] = file.split('.')[0]\n",
    "        trace['trace_label'] = \"systor\" #file.split('.')[0]\n",
    "        pca_attribute_dicts.append(trace)"
   ],
   "metadata": {
    "collapsed": false,
    "pycharm": {
     "name": "#%%\n"
    }
   }
  },
  {
   "cell_type": "code",
   "execution_count": 4,
   "outputs": [],
   "source": [
    "os.chdir(\"/media/odesai/data/analyzed_traces/nexus_out/\")\n",
    "#ssdtrace = \"./ssdtrace_all/\"\n",
    "#systor = \"./systor-all/\"\n",
    "files = os.listdir()\n",
    "for file in files:\n",
    "    #print(file)\n",
    "    fp = open(file, 'r')\n",
    "    trace = json.load(fp)\n",
    "    fp.close()\n",
    "    trace['trace'] = file.split('.')[0]\n",
    "    trace['trace_label'] = \"nexus\" #file.split('.')[0]\n",
    "    pca_attribute_dicts.append(trace)"
   ],
   "metadata": {
    "collapsed": false,
    "pycharm": {
     "name": "#%%\n"
    }
   }
  },
  {
   "cell_type": "code",
   "execution_count": 5,
   "outputs": [
    {
     "data": {
      "text/plain": "'\\nos.chdir(\"/media/odesai/data/msent_out/\")\\n#ssdtrace = \"./ssdtrace_all/\"\\n#systor = \"./systor-all/\"\\nfiles = os.listdir()\\nfor file in files:\\n    #print(file)\\n    fp = open(file, \\'r\\')\\n    trace = json.load(fp)\\n    fp.close()\\n    trace[\\'trace\\'] = \"_\".join(file.split(\\'.\\')[:-2])\\n    trace[\\'trace_label\\'] = \"ms-ent\" #file.split(\\'.\\')[0]\\n    pca_attribute_dicts.append(trace)\\n\\n\\n\\n'"
     },
     "execution_count": 5,
     "metadata": {},
     "output_type": "execute_result"
    }
   ],
   "source": [
    "os.chdir(\"/media/odesai/data/analyzed_traces/slacker_out/\")\n",
    "#ssdtrace = \"./ssdtrace_all/\"\n",
    "#systor = \"./systor-all/\"\n",
    "files = os.listdir()\n",
    "for file in files:\n",
    "    #print(file)\n",
    "    fp = open(file, 'r')\n",
    "    trace = json.load(fp)\n",
    "    fp.close()\n",
    "    trace['trace'] = file.split('.')[0]\n",
    "    trace['trace_label'] = \"slacker\" #file.split('.')[0]\n",
    "    pca_attribute_dicts.append(trace)\n",
    "\n",
    "\n",
    "os.chdir(\"/media/odesai/data/analyzed_traces/msrc_out/\")\n",
    "#ssdtrace = \"./ssdtrace_all/\"\n",
    "#systor = \"./systor-all/\"\n",
    "files = os.listdir()\n",
    "for file in files:\n",
    "    #print(file)\n",
    "    fp = open(file, 'r')\n",
    "    trace = json.load(fp)\n",
    "    fp.close()\n",
    "    trace['trace'] = file.split('.')[0]\n",
    "    trace['trace_label'] = \"msr-c\" #file.split('.')[0]\n",
    "    pca_attribute_dicts.append(trace)\n",
    "\n",
    "os.chdir(\"/media/odesai/data/analyzed_traces/msent_out/\")\n",
    "#ssdtrace = \"./ssdtrace_all/\"\n",
    "#systor = \"./systor-all/\"\n",
    "files = os.listdir()\n",
    "for file in files:\n",
    "    #print(file)\n",
    "    fp = open(file, 'r')\n",
    "    trace = json.load(fp)\n",
    "    fp.close()\n",
    "    trace['trace'] = \"_\".join(file.split('.')[:-2])\n",
    "    trace['trace_label'] = \"ms-ent\" #file.split('.')[0]\n",
    "    pca_attribute_dicts.append(trace)\n",
    "\n",
    "\n",
    "os.chdir(\"/media/odesai/data/analyzed_traces/msprod_out/\")\n",
    "#ssdtrace = \"./ssdtrace_all/\"\n",
    "#systor = \"./systor-all/\"\n",
    "files = os.listdir()\n",
    "for file in files:\n",
    "    #print(file)\n",
    "    fp = open(file, 'r')\n",
    "    trace = json.load(fp)\n",
    "    fp.close()\n",
    "    trace['trace'] = \"_\".join(file.split('.')[:-2])\n",
    "    trace['trace_label'] = \"ms-prod\" #file.split('.')[0]\n",
    "    pca_attribute_dicts.append(trace)\n",
    "\n",
    "\n",
    "os.chdir(\"/media/odesai/data/analyzed_traces/msexchange_out/\")\n",
    "#ssdtrace = \"./ssdtrace_all/\"\n",
    "#systor = \"./systor-all/\"\n",
    "files = os.listdir()\n",
    "for file in files:\n",
    "    #print(file)\n",
    "    fp = open(file, 'r')\n",
    "    trace = json.load(fp)\n",
    "    fp.close()\n",
    "    trace['trace'] = \"_\".join(file.split('.')[:-2])\n",
    "    trace['trace_label'] = \"ms-ent\" #file.split('.')[0]\n",
    "    pca_attribute_dicts.append(trace)\n",
    "\n",
    "\"\"\"\n",
    "os.chdir(\"/media/odesai/data/msent_out/\")\n",
    "#ssdtrace = \"./ssdtrace_all/\"\n",
    "#systor = \"./systor-all/\"\n",
    "files = os.listdir()\n",
    "for file in files:\n",
    "    #print(file)\n",
    "    fp = open(file, 'r')\n",
    "    trace = json.load(fp)\n",
    "    fp.close()\n",
    "    trace['trace'] = \"_\".join(file.split('.')[:-2])\n",
    "    trace['trace_label'] = \"ms-ent\" #file.split('.')[0]\n",
    "    pca_attribute_dicts.append(trace)\n",
    "\n",
    "\n",
    "\n",
    "\"\"\""
   ],
   "metadata": {
    "collapsed": false,
    "pycharm": {
     "name": "#%%\n"
    }
   }
  },
  {
   "cell_type": "code",
   "execution_count": 6,
   "outputs": [
    {
     "data": {
      "text/plain": "           rwr  mrwr_max  mrwr_min   mrwr_q1   mrwr_q2   mrwr_q3  srwr_max  \\\n0     0.972184  0.977397  0.960942  0.970146  0.971811  0.975050  1.000000   \n1     0.972656  0.980923  0.965177  0.968802  0.972987  0.975259  1.000000   \n2     0.973498  0.991627  0.950072  0.972499  0.974218  0.975949  1.000000   \n3     0.971891  0.980462  0.955763  0.968624  0.972139  0.974844  1.000000   \n4     0.975414  0.980434  0.965849  0.973071  0.975647  0.977779  1.000000   \n...        ...       ...       ...       ...       ...       ...       ...   \n2442  0.664280  0.916309  0.503482  0.633140  0.662341  0.713724  0.991892   \n2443  0.817865  0.916465  0.585373  0.823891  0.865478  0.876673  1.000000   \n2444  0.695426  0.785522  0.586741  0.680157  0.711498  0.732169  0.945848   \n2445  0.753049  0.820315  0.691450  0.720679  0.756485  0.774619  0.959397   \n2446  0.736078  0.836412  0.607014  0.686062  0.736481  0.781237  1.000000   \n\n      srwr_min   srwr_q1   srwr_q2  ...  swhot25_q1  swhot25_q2  swhot25_q3  \\\n0     0.500000  0.902051  0.965997  ...    0.251397    0.252439    0.253906   \n1     0.502075  0.902771  0.965304  ...    0.251348    0.252404    0.253968   \n2     0.500000  0.896410  0.967616  ...    0.251366    0.252427    0.253788   \n3     0.502439  0.891731  0.964525  ...    0.251366    0.252427    0.253807   \n4     0.500000  0.929585  0.972252  ...    0.251302    0.252174    0.253333   \n...        ...       ...       ...  ...         ...         ...         ...   \n2442  0.500000  0.582706  0.672315  ...    0.242749    0.296296    0.403816   \n2443  0.500000  0.756027  0.875000  ...    0.253060    0.327239    0.430790   \n2444  0.500000  0.605274  0.691012  ...    0.246175    0.307493    0.396787   \n2445  0.500510  0.638809  0.746253  ...    0.261106    0.330218    0.422715   \n2446  0.500000  0.635626  0.754348  ...    0.236328    0.291086    0.399370   \n\n      swhot50_min  swhot50_max  swhot50_q1  swhot50_q2  swhot50_q3  \\\n0        0.499336     1.000000    0.501883    0.503012    0.504348   \n1        0.500000     1.000000    0.501883    0.502959    0.504464   \n2        0.500000     1.000000    0.501961    0.502994    0.504464   \n3        0.500000     1.000000    0.501942    0.502924    0.504392   \n4        0.498866     1.000000    0.501730    0.502717    0.503906   \n...           ...          ...         ...         ...         ...   \n2442     0.318841     1.000000    0.500000    0.563203    0.637363   \n2443     0.324675     0.859375    0.516129    0.578947    0.646802   \n2444     0.318379     0.771011    0.502168    0.559560    0.606823   \n2445     0.240291     0.817991    0.511582    0.570767    0.626883   \n2446     0.286082     0.848329    0.492869    0.561025    0.633095   \n\n                                   trace  trace_label  \n0                            ssdtrace-13     ssdtrace  \n1                            ssdtrace-09     ssdtrace  \n2                            ssdtrace-16     ssdtrace  \n3                            ssdtrace-21     ssdtrace  \n4                            ssdtrace-01     ssdtrace  \n...                                  ...          ...  \n2442  Exchange_12-12-2007_08-12-PM_trace       ms-ent  \n2443  Exchange_12-12-2007_11-29-PM_trace       ms-ent  \n2444  Exchange_12-13-2007_10-50-AM_trace       ms-ent  \n2445  Exchange_12-13-2007_08-34-AM_trace       ms-ent  \n2446  Exchange_12-12-2007_06-41-PM_trace       ms-ent  \n\n[2447 rows x 255 columns]",
      "text/html": "<div>\n<style scoped>\n    .dataframe tbody tr th:only-of-type {\n        vertical-align: middle;\n    }\n\n    .dataframe tbody tr th {\n        vertical-align: top;\n    }\n\n    .dataframe thead th {\n        text-align: right;\n    }\n</style>\n<table border=\"1\" class=\"dataframe\">\n  <thead>\n    <tr style=\"text-align: right;\">\n      <th></th>\n      <th>rwr</th>\n      <th>mrwr_max</th>\n      <th>mrwr_min</th>\n      <th>mrwr_q1</th>\n      <th>mrwr_q2</th>\n      <th>mrwr_q3</th>\n      <th>srwr_max</th>\n      <th>srwr_min</th>\n      <th>srwr_q1</th>\n      <th>srwr_q2</th>\n      <th>...</th>\n      <th>swhot25_q1</th>\n      <th>swhot25_q2</th>\n      <th>swhot25_q3</th>\n      <th>swhot50_min</th>\n      <th>swhot50_max</th>\n      <th>swhot50_q1</th>\n      <th>swhot50_q2</th>\n      <th>swhot50_q3</th>\n      <th>trace</th>\n      <th>trace_label</th>\n    </tr>\n  </thead>\n  <tbody>\n    <tr>\n      <th>0</th>\n      <td>0.972184</td>\n      <td>0.977397</td>\n      <td>0.960942</td>\n      <td>0.970146</td>\n      <td>0.971811</td>\n      <td>0.975050</td>\n      <td>1.000000</td>\n      <td>0.500000</td>\n      <td>0.902051</td>\n      <td>0.965997</td>\n      <td>...</td>\n      <td>0.251397</td>\n      <td>0.252439</td>\n      <td>0.253906</td>\n      <td>0.499336</td>\n      <td>1.000000</td>\n      <td>0.501883</td>\n      <td>0.503012</td>\n      <td>0.504348</td>\n      <td>ssdtrace-13</td>\n      <td>ssdtrace</td>\n    </tr>\n    <tr>\n      <th>1</th>\n      <td>0.972656</td>\n      <td>0.980923</td>\n      <td>0.965177</td>\n      <td>0.968802</td>\n      <td>0.972987</td>\n      <td>0.975259</td>\n      <td>1.000000</td>\n      <td>0.502075</td>\n      <td>0.902771</td>\n      <td>0.965304</td>\n      <td>...</td>\n      <td>0.251348</td>\n      <td>0.252404</td>\n      <td>0.253968</td>\n      <td>0.500000</td>\n      <td>1.000000</td>\n      <td>0.501883</td>\n      <td>0.502959</td>\n      <td>0.504464</td>\n      <td>ssdtrace-09</td>\n      <td>ssdtrace</td>\n    </tr>\n    <tr>\n      <th>2</th>\n      <td>0.973498</td>\n      <td>0.991627</td>\n      <td>0.950072</td>\n      <td>0.972499</td>\n      <td>0.974218</td>\n      <td>0.975949</td>\n      <td>1.000000</td>\n      <td>0.500000</td>\n      <td>0.896410</td>\n      <td>0.967616</td>\n      <td>...</td>\n      <td>0.251366</td>\n      <td>0.252427</td>\n      <td>0.253788</td>\n      <td>0.500000</td>\n      <td>1.000000</td>\n      <td>0.501961</td>\n      <td>0.502994</td>\n      <td>0.504464</td>\n      <td>ssdtrace-16</td>\n      <td>ssdtrace</td>\n    </tr>\n    <tr>\n      <th>3</th>\n      <td>0.971891</td>\n      <td>0.980462</td>\n      <td>0.955763</td>\n      <td>0.968624</td>\n      <td>0.972139</td>\n      <td>0.974844</td>\n      <td>1.000000</td>\n      <td>0.502439</td>\n      <td>0.891731</td>\n      <td>0.964525</td>\n      <td>...</td>\n      <td>0.251366</td>\n      <td>0.252427</td>\n      <td>0.253807</td>\n      <td>0.500000</td>\n      <td>1.000000</td>\n      <td>0.501942</td>\n      <td>0.502924</td>\n      <td>0.504392</td>\n      <td>ssdtrace-21</td>\n      <td>ssdtrace</td>\n    </tr>\n    <tr>\n      <th>4</th>\n      <td>0.975414</td>\n      <td>0.980434</td>\n      <td>0.965849</td>\n      <td>0.973071</td>\n      <td>0.975647</td>\n      <td>0.977779</td>\n      <td>1.000000</td>\n      <td>0.500000</td>\n      <td>0.929585</td>\n      <td>0.972252</td>\n      <td>...</td>\n      <td>0.251302</td>\n      <td>0.252174</td>\n      <td>0.253333</td>\n      <td>0.498866</td>\n      <td>1.000000</td>\n      <td>0.501730</td>\n      <td>0.502717</td>\n      <td>0.503906</td>\n      <td>ssdtrace-01</td>\n      <td>ssdtrace</td>\n    </tr>\n    <tr>\n      <th>...</th>\n      <td>...</td>\n      <td>...</td>\n      <td>...</td>\n      <td>...</td>\n      <td>...</td>\n      <td>...</td>\n      <td>...</td>\n      <td>...</td>\n      <td>...</td>\n      <td>...</td>\n      <td>...</td>\n      <td>...</td>\n      <td>...</td>\n      <td>...</td>\n      <td>...</td>\n      <td>...</td>\n      <td>...</td>\n      <td>...</td>\n      <td>...</td>\n      <td>...</td>\n      <td>...</td>\n    </tr>\n    <tr>\n      <th>2442</th>\n      <td>0.664280</td>\n      <td>0.916309</td>\n      <td>0.503482</td>\n      <td>0.633140</td>\n      <td>0.662341</td>\n      <td>0.713724</td>\n      <td>0.991892</td>\n      <td>0.500000</td>\n      <td>0.582706</td>\n      <td>0.672315</td>\n      <td>...</td>\n      <td>0.242749</td>\n      <td>0.296296</td>\n      <td>0.403816</td>\n      <td>0.318841</td>\n      <td>1.000000</td>\n      <td>0.500000</td>\n      <td>0.563203</td>\n      <td>0.637363</td>\n      <td>Exchange_12-12-2007_08-12-PM_trace</td>\n      <td>ms-ent</td>\n    </tr>\n    <tr>\n      <th>2443</th>\n      <td>0.817865</td>\n      <td>0.916465</td>\n      <td>0.585373</td>\n      <td>0.823891</td>\n      <td>0.865478</td>\n      <td>0.876673</td>\n      <td>1.000000</td>\n      <td>0.500000</td>\n      <td>0.756027</td>\n      <td>0.875000</td>\n      <td>...</td>\n      <td>0.253060</td>\n      <td>0.327239</td>\n      <td>0.430790</td>\n      <td>0.324675</td>\n      <td>0.859375</td>\n      <td>0.516129</td>\n      <td>0.578947</td>\n      <td>0.646802</td>\n      <td>Exchange_12-12-2007_11-29-PM_trace</td>\n      <td>ms-ent</td>\n    </tr>\n    <tr>\n      <th>2444</th>\n      <td>0.695426</td>\n      <td>0.785522</td>\n      <td>0.586741</td>\n      <td>0.680157</td>\n      <td>0.711498</td>\n      <td>0.732169</td>\n      <td>0.945848</td>\n      <td>0.500000</td>\n      <td>0.605274</td>\n      <td>0.691012</td>\n      <td>...</td>\n      <td>0.246175</td>\n      <td>0.307493</td>\n      <td>0.396787</td>\n      <td>0.318379</td>\n      <td>0.771011</td>\n      <td>0.502168</td>\n      <td>0.559560</td>\n      <td>0.606823</td>\n      <td>Exchange_12-13-2007_10-50-AM_trace</td>\n      <td>ms-ent</td>\n    </tr>\n    <tr>\n      <th>2445</th>\n      <td>0.753049</td>\n      <td>0.820315</td>\n      <td>0.691450</td>\n      <td>0.720679</td>\n      <td>0.756485</td>\n      <td>0.774619</td>\n      <td>0.959397</td>\n      <td>0.500510</td>\n      <td>0.638809</td>\n      <td>0.746253</td>\n      <td>...</td>\n      <td>0.261106</td>\n      <td>0.330218</td>\n      <td>0.422715</td>\n      <td>0.240291</td>\n      <td>0.817991</td>\n      <td>0.511582</td>\n      <td>0.570767</td>\n      <td>0.626883</td>\n      <td>Exchange_12-13-2007_08-34-AM_trace</td>\n      <td>ms-ent</td>\n    </tr>\n    <tr>\n      <th>2446</th>\n      <td>0.736078</td>\n      <td>0.836412</td>\n      <td>0.607014</td>\n      <td>0.686062</td>\n      <td>0.736481</td>\n      <td>0.781237</td>\n      <td>1.000000</td>\n      <td>0.500000</td>\n      <td>0.635626</td>\n      <td>0.754348</td>\n      <td>...</td>\n      <td>0.236328</td>\n      <td>0.291086</td>\n      <td>0.399370</td>\n      <td>0.286082</td>\n      <td>0.848329</td>\n      <td>0.492869</td>\n      <td>0.561025</td>\n      <td>0.633095</td>\n      <td>Exchange_12-12-2007_06-41-PM_trace</td>\n      <td>ms-ent</td>\n    </tr>\n  </tbody>\n</table>\n<p>2447 rows × 255 columns</p>\n</div>"
     },
     "execution_count": 6,
     "metadata": {},
     "output_type": "execute_result"
    }
   ],
   "source": [
    "#pd.set_option(\"display.max_rows\", None, \"display.max_columns\", None)\n",
    "df = pd.DataFrame(pca_attribute_dicts)\n",
    "df"
   ],
   "metadata": {
    "collapsed": false,
    "pycharm": {
     "name": "#%%\n"
    }
   }
  },
  {
   "cell_type": "code",
   "execution_count": 7,
   "outputs": [],
   "source": [
    "x = list(df.columns)\n",
    "features = x[0:-2]\n",
    "target = x[len(x)-1]"
   ],
   "metadata": {
    "collapsed": false,
    "pycharm": {
     "name": "#%%\n"
    }
   }
  },
  {
   "cell_type": "code",
   "execution_count": 8,
   "outputs": [
    {
     "name": "stdout",
     "output_type": "stream",
     "text": [
      "False\n",
      "True\n"
     ]
    }
   ],
   "source": [
    "x = df.loc[:, features].values\n",
    "y = df.loc[:,['trace_label']].values\n",
    "#x = np.nan_to_num(x)\n",
    "\n",
    "print(np.any(np.isnan(x)))\n",
    "print(np.any(np.isfinite(x))) #-There were no infinite values to begin with\n",
    "#df\n",
    "#pd.set_option(\"display.max_rows\", None, \"display.max_columns\", None)"
   ],
   "metadata": {
    "collapsed": false,
    "pycharm": {
     "name": "#%%\n"
    }
   }
  },
  {
   "cell_type": "code",
   "execution_count": 9,
   "outputs": [],
   "source": [
    "x = StandardScaler().fit_transform(x)\n",
    "pca = PCA(n_components=2)\n",
    "#x = np.nan_to_num(x)\n",
    "#x = ~np.isnan(x)\n",
    "principalComponents = pca.fit_transform(x)\n",
    "principalDf = pd.DataFrame(data = principalComponents,\n",
    "                           columns = ['principal_component_1', 'principal_component_2']\n",
    "                           )\n",
    "\n",
    "finalDf = pd.concat([principalDf, df[['trace_label','trace']]],\n",
    "                    axis = 1)\n",
    "#finalDf"
   ],
   "metadata": {
    "collapsed": false,
    "pycharm": {
     "name": "#%%\n"
    }
   }
  },
  {
   "cell_type": "code",
   "execution_count": 10,
   "outputs": [
    {
     "data": {
      "text/plain": "    principal_component_1  principal_component_2   trace_label  \\\n0                1.675005               5.477144  accel_traces   \n1                1.169797               3.907472  accel_traces   \n2                0.716663              -2.943160  accel_traces   \n3                4.637887              -1.343370  accel_traces   \n4                1.119810              -7.981829  accel_traces   \n5               -4.645441              -0.092791  accel_traces   \n6               -4.742893               2.200792  accel_traces   \n7               -3.794174              10.346686  accel_traces   \n8                3.163364               2.975391  accel_traces   \n9                4.178458              -9.457038  accel_traces   \n10               7.450815              -4.487668  accel_traces   \n11              -1.990936               1.813983  accel_traces   \n12              -3.691062              -1.027278  accel_traces   \n13               0.314915               4.434939  accel_traces   \n14              -1.854973              -2.593850  accel_traces   \n15              -3.707235              -1.229423  accel_traces   \n\n              trace  \n0             mysql  \n1         sonarqube  \n2      exch_02-39pm  \n3       log111email  \n4    2016022314LUN0  \n5    2016022212LUN3  \n6       tpcc-4-01pm  \n7       tpcc_9-43am  \n8         cassandra  \n9    2016022619LUN0  \n10  log106messaging  \n11     log121_movie  \n12      ssdtrace-06  \n13    elasticsearch  \n14      ssdtrace-00  \n15      ssdtrace-08  ",
      "text/html": "<div>\n<style scoped>\n    .dataframe tbody tr th:only-of-type {\n        vertical-align: middle;\n    }\n\n    .dataframe tbody tr th {\n        vertical-align: top;\n    }\n\n    .dataframe thead th {\n        text-align: right;\n    }\n</style>\n<table border=\"1\" class=\"dataframe\">\n  <thead>\n    <tr style=\"text-align: right;\">\n      <th></th>\n      <th>principal_component_1</th>\n      <th>principal_component_2</th>\n      <th>trace_label</th>\n      <th>trace</th>\n    </tr>\n  </thead>\n  <tbody>\n    <tr>\n      <th>0</th>\n      <td>1.675005</td>\n      <td>5.477144</td>\n      <td>accel_traces</td>\n      <td>mysql</td>\n    </tr>\n    <tr>\n      <th>1</th>\n      <td>1.169797</td>\n      <td>3.907472</td>\n      <td>accel_traces</td>\n      <td>sonarqube</td>\n    </tr>\n    <tr>\n      <th>2</th>\n      <td>0.716663</td>\n      <td>-2.943160</td>\n      <td>accel_traces</td>\n      <td>exch_02-39pm</td>\n    </tr>\n    <tr>\n      <th>3</th>\n      <td>4.637887</td>\n      <td>-1.343370</td>\n      <td>accel_traces</td>\n      <td>log111email</td>\n    </tr>\n    <tr>\n      <th>4</th>\n      <td>1.119810</td>\n      <td>-7.981829</td>\n      <td>accel_traces</td>\n      <td>2016022314LUN0</td>\n    </tr>\n    <tr>\n      <th>5</th>\n      <td>-4.645441</td>\n      <td>-0.092791</td>\n      <td>accel_traces</td>\n      <td>2016022212LUN3</td>\n    </tr>\n    <tr>\n      <th>6</th>\n      <td>-4.742893</td>\n      <td>2.200792</td>\n      <td>accel_traces</td>\n      <td>tpcc-4-01pm</td>\n    </tr>\n    <tr>\n      <th>7</th>\n      <td>-3.794174</td>\n      <td>10.346686</td>\n      <td>accel_traces</td>\n      <td>tpcc_9-43am</td>\n    </tr>\n    <tr>\n      <th>8</th>\n      <td>3.163364</td>\n      <td>2.975391</td>\n      <td>accel_traces</td>\n      <td>cassandra</td>\n    </tr>\n    <tr>\n      <th>9</th>\n      <td>4.178458</td>\n      <td>-9.457038</td>\n      <td>accel_traces</td>\n      <td>2016022619LUN0</td>\n    </tr>\n    <tr>\n      <th>10</th>\n      <td>7.450815</td>\n      <td>-4.487668</td>\n      <td>accel_traces</td>\n      <td>log106messaging</td>\n    </tr>\n    <tr>\n      <th>11</th>\n      <td>-1.990936</td>\n      <td>1.813983</td>\n      <td>accel_traces</td>\n      <td>log121_movie</td>\n    </tr>\n    <tr>\n      <th>12</th>\n      <td>-3.691062</td>\n      <td>-1.027278</td>\n      <td>accel_traces</td>\n      <td>ssdtrace-06</td>\n    </tr>\n    <tr>\n      <th>13</th>\n      <td>0.314915</td>\n      <td>4.434939</td>\n      <td>accel_traces</td>\n      <td>elasticsearch</td>\n    </tr>\n    <tr>\n      <th>14</th>\n      <td>-1.854973</td>\n      <td>-2.593850</td>\n      <td>accel_traces</td>\n      <td>ssdtrace-00</td>\n    </tr>\n    <tr>\n      <th>15</th>\n      <td>-3.707235</td>\n      <td>-1.229423</td>\n      <td>accel_traces</td>\n      <td>ssdtrace-08</td>\n    </tr>\n  </tbody>\n</table>\n</div>"
     },
     "execution_count": 10,
     "metadata": {},
     "output_type": "execute_result"
    }
   ],
   "source": [
    "accel_trace_dict = []\n",
    "os.chdir(\"/media/odesai/data/analyzed_traces/replay_out/\")\n",
    "#ssdtrace = \"./ssdtrace_all/\"\n",
    "#systor = \"./systor-all/\"\n",
    "files = os.listdir()\n",
    "for file in files:\n",
    "    #print(file)\n",
    "    fp = open(file, 'r')\n",
    "    trace = json.load(fp)\n",
    "    fp.close()\n",
    "    trace['trace'] = \"_\".join(file.split('.')[:-1])\n",
    "    trace['trace_label'] = \"accel_traces\" #file.split('.')[0]\n",
    "    accel_trace_dict.append(trace)\n",
    "df_acc = pd.DataFrame(accel_trace_dict)\n",
    "\n",
    "x_acc = df_acc.loc[:, features].values\n",
    "y_acc = df_acc.loc[:,['trace_label']].values\n",
    "x_acc = StandardScaler().fit_transform(x_acc)\n",
    "transformed = pca.transform(x_acc)\n",
    "\n",
    "transformed_df = pd.DataFrame(data = transformed,\n",
    "                           columns = ['principal_component_1', 'principal_component_2']\n",
    "                           )\n",
    "\n",
    "transormed_finaldf = pd.concat([transformed_df, df_acc[['trace_label','trace']]],\n",
    "                    axis = 1)\n",
    "transormed_finaldf"
   ],
   "metadata": {
    "collapsed": false,
    "pycharm": {
     "name": "#%%\n"
    }
   }
  },
  {
   "cell_type": "code",
   "execution_count": 11,
   "outputs": [
    {
     "data": {
      "text/plain": "array(['ssdtrace', 'systor', 'nexus', 'slacker', 'msr-c', 'ms-ent',\n       'ms-prod'], dtype=object)"
     },
     "execution_count": 11,
     "metadata": {},
     "output_type": "execute_result"
    }
   ],
   "source": [
    "#finalDf=finalDf.append(transormed_finaldf)\n",
    "finalDf.trace_label.unique()"
   ],
   "metadata": {
    "collapsed": false,
    "pycharm": {
     "name": "#%%\n"
    }
   }
  },
  {
   "cell_type": "code",
   "execution_count": 12,
   "outputs": [
    {
     "data": {
      "text/plain": "      principal_component_1  principal_component_2 trace_label  \\\n0                 -2.902925              10.331703    ssdtrace   \n1                 -2.968941              10.461220    ssdtrace   \n2                 -3.078306              10.352382    ssdtrace   \n3                 -2.944112              10.353099    ssdtrace   \n4                 -3.313559              11.414052    ssdtrace   \n...                     ...                    ...         ...   \n2442               6.752623              -0.594630      ms-ent   \n2443              10.494170              -1.820765      ms-ent   \n2444               5.671244               2.905699      ms-ent   \n2445               6.967382               2.257613      ms-ent   \n2446               7.952572              -1.042119      ms-ent   \n\n                                   trace  \n0                            ssdtrace-13  \n1                            ssdtrace-09  \n2                            ssdtrace-16  \n3                            ssdtrace-21  \n4                            ssdtrace-01  \n...                                  ...  \n2442  Exchange_12-12-2007_08-12-PM_trace  \n2443  Exchange_12-12-2007_11-29-PM_trace  \n2444  Exchange_12-13-2007_10-50-AM_trace  \n2445  Exchange_12-13-2007_08-34-AM_trace  \n2446  Exchange_12-12-2007_06-41-PM_trace  \n\n[2447 rows x 4 columns]",
      "text/html": "<div>\n<style scoped>\n    .dataframe tbody tr th:only-of-type {\n        vertical-align: middle;\n    }\n\n    .dataframe tbody tr th {\n        vertical-align: top;\n    }\n\n    .dataframe thead th {\n        text-align: right;\n    }\n</style>\n<table border=\"1\" class=\"dataframe\">\n  <thead>\n    <tr style=\"text-align: right;\">\n      <th></th>\n      <th>principal_component_1</th>\n      <th>principal_component_2</th>\n      <th>trace_label</th>\n      <th>trace</th>\n    </tr>\n  </thead>\n  <tbody>\n    <tr>\n      <th>0</th>\n      <td>-2.902925</td>\n      <td>10.331703</td>\n      <td>ssdtrace</td>\n      <td>ssdtrace-13</td>\n    </tr>\n    <tr>\n      <th>1</th>\n      <td>-2.968941</td>\n      <td>10.461220</td>\n      <td>ssdtrace</td>\n      <td>ssdtrace-09</td>\n    </tr>\n    <tr>\n      <th>2</th>\n      <td>-3.078306</td>\n      <td>10.352382</td>\n      <td>ssdtrace</td>\n      <td>ssdtrace-16</td>\n    </tr>\n    <tr>\n      <th>3</th>\n      <td>-2.944112</td>\n      <td>10.353099</td>\n      <td>ssdtrace</td>\n      <td>ssdtrace-21</td>\n    </tr>\n    <tr>\n      <th>4</th>\n      <td>-3.313559</td>\n      <td>11.414052</td>\n      <td>ssdtrace</td>\n      <td>ssdtrace-01</td>\n    </tr>\n    <tr>\n      <th>...</th>\n      <td>...</td>\n      <td>...</td>\n      <td>...</td>\n      <td>...</td>\n    </tr>\n    <tr>\n      <th>2442</th>\n      <td>6.752623</td>\n      <td>-0.594630</td>\n      <td>ms-ent</td>\n      <td>Exchange_12-12-2007_08-12-PM_trace</td>\n    </tr>\n    <tr>\n      <th>2443</th>\n      <td>10.494170</td>\n      <td>-1.820765</td>\n      <td>ms-ent</td>\n      <td>Exchange_12-12-2007_11-29-PM_trace</td>\n    </tr>\n    <tr>\n      <th>2444</th>\n      <td>5.671244</td>\n      <td>2.905699</td>\n      <td>ms-ent</td>\n      <td>Exchange_12-13-2007_10-50-AM_trace</td>\n    </tr>\n    <tr>\n      <th>2445</th>\n      <td>6.967382</td>\n      <td>2.257613</td>\n      <td>ms-ent</td>\n      <td>Exchange_12-13-2007_08-34-AM_trace</td>\n    </tr>\n    <tr>\n      <th>2446</th>\n      <td>7.952572</td>\n      <td>-1.042119</td>\n      <td>ms-ent</td>\n      <td>Exchange_12-12-2007_06-41-PM_trace</td>\n    </tr>\n  </tbody>\n</table>\n<p>2447 rows × 4 columns</p>\n</div>"
     },
     "execution_count": 12,
     "metadata": {},
     "output_type": "execute_result"
    }
   ],
   "source": [
    "finalDf"
   ],
   "metadata": {
    "collapsed": false,
    "pycharm": {
     "name": "#%%\n"
    }
   }
  },
  {
   "cell_type": "code",
   "execution_count": 13,
   "outputs": [],
   "source": [
    "x = StandardScaler().fit_transform(x)\n",
    "pca = PCA(n_components=40)\n",
    "x = np.nan_to_num(x)\n",
    "principalComponents = pca.fit_transform(x)\n",
    "principalDf = pd.DataFrame(data = principalComponents,\n",
    "                           #columns = ['pri', 'principal_component_2']\n",
    "                           )\n",
    "\n",
    "finalDf_10 = pd.concat([principalDf, df[['trace_label','trace']]],\n",
    "                    axis = 1)\n",
    "\n",
    "#finalDf_10"
   ],
   "metadata": {
    "collapsed": false,
    "pycharm": {
     "name": "#%%\n"
    }
   }
  },
  {
   "cell_type": "code",
   "execution_count": 14,
   "outputs": [
    {
     "data": {
      "text/plain": "           0          1          2         3         4         5          6  \\\n0   1.675005   5.477144  -3.366803 -3.522005 -0.688937  1.487382  -2.134103   \n1   1.169797   3.907472  -5.047894 -2.759820 -4.157077  3.620349   1.998740   \n2   0.716663  -2.943160   7.110464 -0.241297  2.566789  3.252501   5.046772   \n3   4.637887  -1.343370  -0.272214 -3.795033 -0.484608  1.765077   5.258469   \n4   1.119810  -7.981829   4.710714 -0.612217 -0.120531 -1.336822   1.226481   \n5  -4.645441  -0.092791  -0.283053  5.019866  0.424953 -1.438217   0.828275   \n6  -4.742893   2.200792   9.230397  3.383345  6.017526  5.205685  -3.281943   \n7  -3.794174  10.346686  16.544378  7.719454  4.465557  3.931785  -4.027401   \n8   3.163364   2.975391  -4.488022 -5.422885  2.561109  1.774311  -4.674267   \n9   4.178458  -9.457038   6.677853  3.381986  0.211102 -4.534738   2.799785   \n10  7.450815  -4.487668   0.065699 -4.501464 -3.918548 -8.668635  11.726106   \n11 -1.990936   1.813983  -7.365103 -1.814276 -1.710979  1.518701   2.726746   \n12 -3.691062  -1.027278  -6.592543  1.007304  0.310616 -2.806118  -4.741240   \n13  0.314915   4.434939  -3.579421 -4.718244 -4.446479  0.098066  -2.896471   \n14 -1.854973  -2.593850  -6.850338  5.014696 -1.303897 -0.554789  -4.608063   \n15 -3.707235  -1.229423  -6.494113  1.860591  0.273405 -3.314538  -5.247887   \n\n           7         8         9  ...        32        33        34        35  \\\n0   4.711762  2.093445 -0.227699  ...  0.804286 -0.154652  1.716831  0.153294   \n1   0.082780  0.033530  2.920195  ... -0.232345  1.336197 -0.096948 -0.046952   \n2  -2.145462 -0.093117 -1.758585  ...  0.536920 -0.193412 -0.755727  1.336240   \n3  -0.402339  0.645771  2.352492  ...  1.761039 -0.180297 -0.408577  0.711852   \n4   0.222441 -0.223953 -0.720533  ...  0.537439 -0.477965 -0.626454  0.358983   \n5   2.972828  0.331924 -0.217796  ... -0.274354  0.720189  0.464377 -1.333447   \n6  -5.017413 -2.426331  0.793206  ... -0.331344 -1.261481  0.216615  0.460623   \n7  -4.981147 -1.484677 -2.391319  ...  0.090178 -0.853795  1.782508 -1.853112   \n8   1.670737  0.169777  1.620348  ...  0.052598  0.051449  1.173461  0.345938   \n9   1.407090  1.599189  0.572205  ...  0.723083 -0.896091 -0.473279 -0.743124   \n10  0.837929  3.561076 -6.395907  ...  1.339847  1.180351 -0.263167 -0.082059   \n11  3.714938  2.846820  0.870536  ...  1.082226  0.211964  0.608582 -0.680845   \n12 -2.662577 -2.691724  0.152816  ... -1.482329  0.434499 -1.580847  0.939465   \n13  0.752537  0.692227  0.087888  ...  0.816911  0.467000  1.148141 -0.270484   \n14  1.217956 -2.420146  2.135160  ... -4.030481 -0.608337 -1.662256 -0.479695   \n15 -2.382060 -2.633810  0.206993  ... -1.393674  0.224382 -1.243261  1.183323   \n\n          36        37        38        39   trace_label            trace  \n0   0.546521  1.522570  0.226466  0.542783  accel_traces            mysql  \n1   1.418931  0.911253 -0.323259 -0.848515  accel_traces        sonarqube  \n2  -1.072681 -0.191075  0.020587 -0.883688  accel_traces     exch_02-39pm  \n3  -0.680712  0.924559  0.345107 -0.869657  accel_traces      log111email  \n4  -1.333558 -0.093603  0.356387 -0.060958  accel_traces   2016022314LUN0  \n5   0.035157  0.728353  1.762422  0.833958  accel_traces   2016022212LUN3  \n6   1.872510  0.003476  1.401033  0.203190  accel_traces      tpcc-4-01pm  \n7   0.206639 -1.135299  0.728261  0.856338  accel_traces      tpcc_9-43am  \n8   0.422932  0.813038 -0.791492  0.596672  accel_traces        cassandra  \n9  -1.273524  0.250269  1.158164 -0.896403  accel_traces   2016022619LUN0  \n10 -0.777387 -1.726739 -2.375004 -3.999092  accel_traces  log106messaging  \n11 -0.014582  2.350282  1.315528  0.546905  accel_traces     log121_movie  \n12  0.079148 -1.301005 -1.591777  0.885319  accel_traces      ssdtrace-06  \n13  0.590806  1.407053  1.066185  0.156017  accel_traces    elasticsearch  \n14 -0.217264 -2.990671 -1.974910  1.643057  accel_traces      ssdtrace-00  \n15  0.197063 -1.472460 -1.323697  1.294075  accel_traces      ssdtrace-08  \n\n[16 rows x 42 columns]",
      "text/html": "<div>\n<style scoped>\n    .dataframe tbody tr th:only-of-type {\n        vertical-align: middle;\n    }\n\n    .dataframe tbody tr th {\n        vertical-align: top;\n    }\n\n    .dataframe thead th {\n        text-align: right;\n    }\n</style>\n<table border=\"1\" class=\"dataframe\">\n  <thead>\n    <tr style=\"text-align: right;\">\n      <th></th>\n      <th>0</th>\n      <th>1</th>\n      <th>2</th>\n      <th>3</th>\n      <th>4</th>\n      <th>5</th>\n      <th>6</th>\n      <th>7</th>\n      <th>8</th>\n      <th>9</th>\n      <th>...</th>\n      <th>32</th>\n      <th>33</th>\n      <th>34</th>\n      <th>35</th>\n      <th>36</th>\n      <th>37</th>\n      <th>38</th>\n      <th>39</th>\n      <th>trace_label</th>\n      <th>trace</th>\n    </tr>\n  </thead>\n  <tbody>\n    <tr>\n      <th>0</th>\n      <td>1.675005</td>\n      <td>5.477144</td>\n      <td>-3.366803</td>\n      <td>-3.522005</td>\n      <td>-0.688937</td>\n      <td>1.487382</td>\n      <td>-2.134103</td>\n      <td>4.711762</td>\n      <td>2.093445</td>\n      <td>-0.227699</td>\n      <td>...</td>\n      <td>0.804286</td>\n      <td>-0.154652</td>\n      <td>1.716831</td>\n      <td>0.153294</td>\n      <td>0.546521</td>\n      <td>1.522570</td>\n      <td>0.226466</td>\n      <td>0.542783</td>\n      <td>accel_traces</td>\n      <td>mysql</td>\n    </tr>\n    <tr>\n      <th>1</th>\n      <td>1.169797</td>\n      <td>3.907472</td>\n      <td>-5.047894</td>\n      <td>-2.759820</td>\n      <td>-4.157077</td>\n      <td>3.620349</td>\n      <td>1.998740</td>\n      <td>0.082780</td>\n      <td>0.033530</td>\n      <td>2.920195</td>\n      <td>...</td>\n      <td>-0.232345</td>\n      <td>1.336197</td>\n      <td>-0.096948</td>\n      <td>-0.046952</td>\n      <td>1.418931</td>\n      <td>0.911253</td>\n      <td>-0.323259</td>\n      <td>-0.848515</td>\n      <td>accel_traces</td>\n      <td>sonarqube</td>\n    </tr>\n    <tr>\n      <th>2</th>\n      <td>0.716663</td>\n      <td>-2.943160</td>\n      <td>7.110464</td>\n      <td>-0.241297</td>\n      <td>2.566789</td>\n      <td>3.252501</td>\n      <td>5.046772</td>\n      <td>-2.145462</td>\n      <td>-0.093117</td>\n      <td>-1.758585</td>\n      <td>...</td>\n      <td>0.536920</td>\n      <td>-0.193412</td>\n      <td>-0.755727</td>\n      <td>1.336240</td>\n      <td>-1.072681</td>\n      <td>-0.191075</td>\n      <td>0.020587</td>\n      <td>-0.883688</td>\n      <td>accel_traces</td>\n      <td>exch_02-39pm</td>\n    </tr>\n    <tr>\n      <th>3</th>\n      <td>4.637887</td>\n      <td>-1.343370</td>\n      <td>-0.272214</td>\n      <td>-3.795033</td>\n      <td>-0.484608</td>\n      <td>1.765077</td>\n      <td>5.258469</td>\n      <td>-0.402339</td>\n      <td>0.645771</td>\n      <td>2.352492</td>\n      <td>...</td>\n      <td>1.761039</td>\n      <td>-0.180297</td>\n      <td>-0.408577</td>\n      <td>0.711852</td>\n      <td>-0.680712</td>\n      <td>0.924559</td>\n      <td>0.345107</td>\n      <td>-0.869657</td>\n      <td>accel_traces</td>\n      <td>log111email</td>\n    </tr>\n    <tr>\n      <th>4</th>\n      <td>1.119810</td>\n      <td>-7.981829</td>\n      <td>4.710714</td>\n      <td>-0.612217</td>\n      <td>-0.120531</td>\n      <td>-1.336822</td>\n      <td>1.226481</td>\n      <td>0.222441</td>\n      <td>-0.223953</td>\n      <td>-0.720533</td>\n      <td>...</td>\n      <td>0.537439</td>\n      <td>-0.477965</td>\n      <td>-0.626454</td>\n      <td>0.358983</td>\n      <td>-1.333558</td>\n      <td>-0.093603</td>\n      <td>0.356387</td>\n      <td>-0.060958</td>\n      <td>accel_traces</td>\n      <td>2016022314LUN0</td>\n    </tr>\n    <tr>\n      <th>5</th>\n      <td>-4.645441</td>\n      <td>-0.092791</td>\n      <td>-0.283053</td>\n      <td>5.019866</td>\n      <td>0.424953</td>\n      <td>-1.438217</td>\n      <td>0.828275</td>\n      <td>2.972828</td>\n      <td>0.331924</td>\n      <td>-0.217796</td>\n      <td>...</td>\n      <td>-0.274354</td>\n      <td>0.720189</td>\n      <td>0.464377</td>\n      <td>-1.333447</td>\n      <td>0.035157</td>\n      <td>0.728353</td>\n      <td>1.762422</td>\n      <td>0.833958</td>\n      <td>accel_traces</td>\n      <td>2016022212LUN3</td>\n    </tr>\n    <tr>\n      <th>6</th>\n      <td>-4.742893</td>\n      <td>2.200792</td>\n      <td>9.230397</td>\n      <td>3.383345</td>\n      <td>6.017526</td>\n      <td>5.205685</td>\n      <td>-3.281943</td>\n      <td>-5.017413</td>\n      <td>-2.426331</td>\n      <td>0.793206</td>\n      <td>...</td>\n      <td>-0.331344</td>\n      <td>-1.261481</td>\n      <td>0.216615</td>\n      <td>0.460623</td>\n      <td>1.872510</td>\n      <td>0.003476</td>\n      <td>1.401033</td>\n      <td>0.203190</td>\n      <td>accel_traces</td>\n      <td>tpcc-4-01pm</td>\n    </tr>\n    <tr>\n      <th>7</th>\n      <td>-3.794174</td>\n      <td>10.346686</td>\n      <td>16.544378</td>\n      <td>7.719454</td>\n      <td>4.465557</td>\n      <td>3.931785</td>\n      <td>-4.027401</td>\n      <td>-4.981147</td>\n      <td>-1.484677</td>\n      <td>-2.391319</td>\n      <td>...</td>\n      <td>0.090178</td>\n      <td>-0.853795</td>\n      <td>1.782508</td>\n      <td>-1.853112</td>\n      <td>0.206639</td>\n      <td>-1.135299</td>\n      <td>0.728261</td>\n      <td>0.856338</td>\n      <td>accel_traces</td>\n      <td>tpcc_9-43am</td>\n    </tr>\n    <tr>\n      <th>8</th>\n      <td>3.163364</td>\n      <td>2.975391</td>\n      <td>-4.488022</td>\n      <td>-5.422885</td>\n      <td>2.561109</td>\n      <td>1.774311</td>\n      <td>-4.674267</td>\n      <td>1.670737</td>\n      <td>0.169777</td>\n      <td>1.620348</td>\n      <td>...</td>\n      <td>0.052598</td>\n      <td>0.051449</td>\n      <td>1.173461</td>\n      <td>0.345938</td>\n      <td>0.422932</td>\n      <td>0.813038</td>\n      <td>-0.791492</td>\n      <td>0.596672</td>\n      <td>accel_traces</td>\n      <td>cassandra</td>\n    </tr>\n    <tr>\n      <th>9</th>\n      <td>4.178458</td>\n      <td>-9.457038</td>\n      <td>6.677853</td>\n      <td>3.381986</td>\n      <td>0.211102</td>\n      <td>-4.534738</td>\n      <td>2.799785</td>\n      <td>1.407090</td>\n      <td>1.599189</td>\n      <td>0.572205</td>\n      <td>...</td>\n      <td>0.723083</td>\n      <td>-0.896091</td>\n      <td>-0.473279</td>\n      <td>-0.743124</td>\n      <td>-1.273524</td>\n      <td>0.250269</td>\n      <td>1.158164</td>\n      <td>-0.896403</td>\n      <td>accel_traces</td>\n      <td>2016022619LUN0</td>\n    </tr>\n    <tr>\n      <th>10</th>\n      <td>7.450815</td>\n      <td>-4.487668</td>\n      <td>0.065699</td>\n      <td>-4.501464</td>\n      <td>-3.918548</td>\n      <td>-8.668635</td>\n      <td>11.726106</td>\n      <td>0.837929</td>\n      <td>3.561076</td>\n      <td>-6.395907</td>\n      <td>...</td>\n      <td>1.339847</td>\n      <td>1.180351</td>\n      <td>-0.263167</td>\n      <td>-0.082059</td>\n      <td>-0.777387</td>\n      <td>-1.726739</td>\n      <td>-2.375004</td>\n      <td>-3.999092</td>\n      <td>accel_traces</td>\n      <td>log106messaging</td>\n    </tr>\n    <tr>\n      <th>11</th>\n      <td>-1.990936</td>\n      <td>1.813983</td>\n      <td>-7.365103</td>\n      <td>-1.814276</td>\n      <td>-1.710979</td>\n      <td>1.518701</td>\n      <td>2.726746</td>\n      <td>3.714938</td>\n      <td>2.846820</td>\n      <td>0.870536</td>\n      <td>...</td>\n      <td>1.082226</td>\n      <td>0.211964</td>\n      <td>0.608582</td>\n      <td>-0.680845</td>\n      <td>-0.014582</td>\n      <td>2.350282</td>\n      <td>1.315528</td>\n      <td>0.546905</td>\n      <td>accel_traces</td>\n      <td>log121_movie</td>\n    </tr>\n    <tr>\n      <th>12</th>\n      <td>-3.691062</td>\n      <td>-1.027278</td>\n      <td>-6.592543</td>\n      <td>1.007304</td>\n      <td>0.310616</td>\n      <td>-2.806118</td>\n      <td>-4.741240</td>\n      <td>-2.662577</td>\n      <td>-2.691724</td>\n      <td>0.152816</td>\n      <td>...</td>\n      <td>-1.482329</td>\n      <td>0.434499</td>\n      <td>-1.580847</td>\n      <td>0.939465</td>\n      <td>0.079148</td>\n      <td>-1.301005</td>\n      <td>-1.591777</td>\n      <td>0.885319</td>\n      <td>accel_traces</td>\n      <td>ssdtrace-06</td>\n    </tr>\n    <tr>\n      <th>13</th>\n      <td>0.314915</td>\n      <td>4.434939</td>\n      <td>-3.579421</td>\n      <td>-4.718244</td>\n      <td>-4.446479</td>\n      <td>0.098066</td>\n      <td>-2.896471</td>\n      <td>0.752537</td>\n      <td>0.692227</td>\n      <td>0.087888</td>\n      <td>...</td>\n      <td>0.816911</td>\n      <td>0.467000</td>\n      <td>1.148141</td>\n      <td>-0.270484</td>\n      <td>0.590806</td>\n      <td>1.407053</td>\n      <td>1.066185</td>\n      <td>0.156017</td>\n      <td>accel_traces</td>\n      <td>elasticsearch</td>\n    </tr>\n    <tr>\n      <th>14</th>\n      <td>-1.854973</td>\n      <td>-2.593850</td>\n      <td>-6.850338</td>\n      <td>5.014696</td>\n      <td>-1.303897</td>\n      <td>-0.554789</td>\n      <td>-4.608063</td>\n      <td>1.217956</td>\n      <td>-2.420146</td>\n      <td>2.135160</td>\n      <td>...</td>\n      <td>-4.030481</td>\n      <td>-0.608337</td>\n      <td>-1.662256</td>\n      <td>-0.479695</td>\n      <td>-0.217264</td>\n      <td>-2.990671</td>\n      <td>-1.974910</td>\n      <td>1.643057</td>\n      <td>accel_traces</td>\n      <td>ssdtrace-00</td>\n    </tr>\n    <tr>\n      <th>15</th>\n      <td>-3.707235</td>\n      <td>-1.229423</td>\n      <td>-6.494113</td>\n      <td>1.860591</td>\n      <td>0.273405</td>\n      <td>-3.314538</td>\n      <td>-5.247887</td>\n      <td>-2.382060</td>\n      <td>-2.633810</td>\n      <td>0.206993</td>\n      <td>...</td>\n      <td>-1.393674</td>\n      <td>0.224382</td>\n      <td>-1.243261</td>\n      <td>1.183323</td>\n      <td>0.197063</td>\n      <td>-1.472460</td>\n      <td>-1.323697</td>\n      <td>1.294075</td>\n      <td>accel_traces</td>\n      <td>ssdtrace-08</td>\n    </tr>\n  </tbody>\n</table>\n<p>16 rows × 42 columns</p>\n</div>"
     },
     "execution_count": 14,
     "metadata": {},
     "output_type": "execute_result"
    }
   ],
   "source": [
    "transformed = pca.transform(x_acc)\n",
    "\n",
    "transformed_df = pd.DataFrame(data = transformed)\n",
    "\n",
    "transormed_finaldf10 = pd.concat([transformed_df, df_acc[['trace_label','trace']]],\n",
    "                    axis = 1)\n",
    "transormed_finaldf10"
   ],
   "metadata": {
    "collapsed": false,
    "pycharm": {
     "name": "#%%\n"
    }
   }
  },
  {
   "cell_type": "code",
   "execution_count": 15,
   "outputs": [
    {
     "data": {
      "text/plain": "array(['ssdtrace', 'systor', 'nexus', 'slacker', 'msr-c', 'ms-ent',\n       'ms-prod'], dtype=object)"
     },
     "execution_count": 15,
     "metadata": {},
     "output_type": "execute_result"
    }
   ],
   "source": [
    "#finalDf_10=finalDf_10.append(transormed_finaldf10)\n",
    "finalDf_10.trace_label.unique()"
   ],
   "metadata": {
    "collapsed": false,
    "pycharm": {
     "name": "#%%\n"
    }
   }
  },
  {
   "cell_type": "code",
   "execution_count": 16,
   "outputs": [
    {
     "data": {
      "text/plain": "1.0000000000000004"
     },
     "execution_count": 16,
     "metadata": {},
     "output_type": "execute_result"
    }
   ],
   "source": [
    "component_feature_map = pd.DataFrame(pca.components_).T\n",
    "(component_feature_map[0]**2).sum()"
   ],
   "metadata": {
    "collapsed": false,
    "pycharm": {
     "name": "#%%\n"
    }
   }
  },
  {
   "cell_type": "code",
   "execution_count": 17,
   "outputs": [
    {
     "data": {
      "text/plain": "            0         1         2         3         4         5         6  \\\n63  -0.011223  0.131830  0.097541  0.048799 -0.064945 -0.009280 -0.011141   \n58  -0.013923  0.133975  0.094103  0.047972 -0.064246 -0.010679 -0.012092   \n55  -0.017137  0.132630  0.093827  0.052468 -0.063513 -0.009289 -0.012440   \n85  -0.014102  0.134349  0.092630  0.049204 -0.061316 -0.011920 -0.012937   \n59  -0.016358  0.133445  0.092935  0.050705 -0.063333 -0.010494 -0.013301   \n..        ...       ...       ...       ...       ...       ...       ...   \n106 -0.035104  0.037837  0.047504 -0.002724  0.035355  0.071645  0.063166   \n159  0.002784  0.041782  0.049873  0.034299  0.036486  0.034947 -0.125852   \n61   0.019899 -0.000317  0.000239  0.024190 -0.003582 -0.008080 -0.042359   \n72   0.019705 -0.000490  0.000271  0.023920 -0.003463 -0.007957 -0.042059   \n105  0.043886  0.008546 -0.035272  0.048161 -0.029203  0.066732  0.045413   \n\n            7         8         9  ...        32        33        34  \\\n63   0.031583 -0.015578 -0.008934  ... -0.022312 -0.005947  0.017726   \n58   0.029367 -0.017389 -0.008490  ... -0.005246 -0.000492  0.020423   \n55   0.030706 -0.016825 -0.002459  ... -0.008188 -0.002449  0.020482   \n85   0.027237 -0.015147 -0.013135  ... -0.015933  0.003125  0.032357   \n59   0.029608 -0.016615 -0.002718  ...  0.000014 -0.000966  0.030868   \n..        ...       ...       ...  ...       ...       ...       ...   \n106 -0.077630  0.056204 -0.048680  ... -0.085649  0.054452 -0.142332   \n159 -0.035572 -0.004045  0.047555  ... -0.073291  0.075850 -0.069519   \n61  -0.051023  0.048759 -0.052466  ... -0.015969  0.053746 -0.008535   \n72  -0.050924  0.048544 -0.052154  ... -0.016760  0.054930 -0.009260   \n105 -0.017460 -0.028634  0.052833  ... -0.170532 -0.197419 -0.385831   \n\n           35        36        37        38        39       sum    feature  \n63  -0.014365  0.011946 -0.006885  0.009202 -0.002596  0.697088    sbps_q1  \n58  -0.003326  0.015959  0.001268  0.006507 -0.006733  0.712009    mbps_q1  \n55  -0.001723  0.022700  0.003153  0.005115 -0.007708  0.736662        bps  \n85  -0.030745  0.026387 -0.000499  0.011740 -0.001940  0.748252   sbrps_q1  \n59  -0.009328  0.033745 -0.002860  0.009223 -0.010965  0.762587    mbps_q2  \n..        ...       ...       ...       ...       ...       ...        ...  \n106 -0.014263  0.074672  0.005945 -0.303833 -0.273479  2.864442   saws_min  \n159 -0.057232  0.038064  0.023209  0.123303  0.079912  2.881850     rhot50  \n61   0.019009  0.006065 -0.017464  0.000902 -0.019587  2.999170   sbps_max  \n72   0.019854  0.006658 -0.015843  0.001160 -0.021077  3.008616  sbwps_max  \n105  0.187489  0.421579  0.055432  0.113128  0.044324  3.535075   saws_max  \n\n[253 rows x 42 columns]",
      "text/html": "<div>\n<style scoped>\n    .dataframe tbody tr th:only-of-type {\n        vertical-align: middle;\n    }\n\n    .dataframe tbody tr th {\n        vertical-align: top;\n    }\n\n    .dataframe thead th {\n        text-align: right;\n    }\n</style>\n<table border=\"1\" class=\"dataframe\">\n  <thead>\n    <tr style=\"text-align: right;\">\n      <th></th>\n      <th>0</th>\n      <th>1</th>\n      <th>2</th>\n      <th>3</th>\n      <th>4</th>\n      <th>5</th>\n      <th>6</th>\n      <th>7</th>\n      <th>8</th>\n      <th>9</th>\n      <th>...</th>\n      <th>32</th>\n      <th>33</th>\n      <th>34</th>\n      <th>35</th>\n      <th>36</th>\n      <th>37</th>\n      <th>38</th>\n      <th>39</th>\n      <th>sum</th>\n      <th>feature</th>\n    </tr>\n  </thead>\n  <tbody>\n    <tr>\n      <th>63</th>\n      <td>-0.011223</td>\n      <td>0.131830</td>\n      <td>0.097541</td>\n      <td>0.048799</td>\n      <td>-0.064945</td>\n      <td>-0.009280</td>\n      <td>-0.011141</td>\n      <td>0.031583</td>\n      <td>-0.015578</td>\n      <td>-0.008934</td>\n      <td>...</td>\n      <td>-0.022312</td>\n      <td>-0.005947</td>\n      <td>0.017726</td>\n      <td>-0.014365</td>\n      <td>0.011946</td>\n      <td>-0.006885</td>\n      <td>0.009202</td>\n      <td>-0.002596</td>\n      <td>0.697088</td>\n      <td>sbps_q1</td>\n    </tr>\n    <tr>\n      <th>58</th>\n      <td>-0.013923</td>\n      <td>0.133975</td>\n      <td>0.094103</td>\n      <td>0.047972</td>\n      <td>-0.064246</td>\n      <td>-0.010679</td>\n      <td>-0.012092</td>\n      <td>0.029367</td>\n      <td>-0.017389</td>\n      <td>-0.008490</td>\n      <td>...</td>\n      <td>-0.005246</td>\n      <td>-0.000492</td>\n      <td>0.020423</td>\n      <td>-0.003326</td>\n      <td>0.015959</td>\n      <td>0.001268</td>\n      <td>0.006507</td>\n      <td>-0.006733</td>\n      <td>0.712009</td>\n      <td>mbps_q1</td>\n    </tr>\n    <tr>\n      <th>55</th>\n      <td>-0.017137</td>\n      <td>0.132630</td>\n      <td>0.093827</td>\n      <td>0.052468</td>\n      <td>-0.063513</td>\n      <td>-0.009289</td>\n      <td>-0.012440</td>\n      <td>0.030706</td>\n      <td>-0.016825</td>\n      <td>-0.002459</td>\n      <td>...</td>\n      <td>-0.008188</td>\n      <td>-0.002449</td>\n      <td>0.020482</td>\n      <td>-0.001723</td>\n      <td>0.022700</td>\n      <td>0.003153</td>\n      <td>0.005115</td>\n      <td>-0.007708</td>\n      <td>0.736662</td>\n      <td>bps</td>\n    </tr>\n    <tr>\n      <th>85</th>\n      <td>-0.014102</td>\n      <td>0.134349</td>\n      <td>0.092630</td>\n      <td>0.049204</td>\n      <td>-0.061316</td>\n      <td>-0.011920</td>\n      <td>-0.012937</td>\n      <td>0.027237</td>\n      <td>-0.015147</td>\n      <td>-0.013135</td>\n      <td>...</td>\n      <td>-0.015933</td>\n      <td>0.003125</td>\n      <td>0.032357</td>\n      <td>-0.030745</td>\n      <td>0.026387</td>\n      <td>-0.000499</td>\n      <td>0.011740</td>\n      <td>-0.001940</td>\n      <td>0.748252</td>\n      <td>sbrps_q1</td>\n    </tr>\n    <tr>\n      <th>59</th>\n      <td>-0.016358</td>\n      <td>0.133445</td>\n      <td>0.092935</td>\n      <td>0.050705</td>\n      <td>-0.063333</td>\n      <td>-0.010494</td>\n      <td>-0.013301</td>\n      <td>0.029608</td>\n      <td>-0.016615</td>\n      <td>-0.002718</td>\n      <td>...</td>\n      <td>0.000014</td>\n      <td>-0.000966</td>\n      <td>0.030868</td>\n      <td>-0.009328</td>\n      <td>0.033745</td>\n      <td>-0.002860</td>\n      <td>0.009223</td>\n      <td>-0.010965</td>\n      <td>0.762587</td>\n      <td>mbps_q2</td>\n    </tr>\n    <tr>\n      <th>...</th>\n      <td>...</td>\n      <td>...</td>\n      <td>...</td>\n      <td>...</td>\n      <td>...</td>\n      <td>...</td>\n      <td>...</td>\n      <td>...</td>\n      <td>...</td>\n      <td>...</td>\n      <td>...</td>\n      <td>...</td>\n      <td>...</td>\n      <td>...</td>\n      <td>...</td>\n      <td>...</td>\n      <td>...</td>\n      <td>...</td>\n      <td>...</td>\n      <td>...</td>\n      <td>...</td>\n    </tr>\n    <tr>\n      <th>106</th>\n      <td>-0.035104</td>\n      <td>0.037837</td>\n      <td>0.047504</td>\n      <td>-0.002724</td>\n      <td>0.035355</td>\n      <td>0.071645</td>\n      <td>0.063166</td>\n      <td>-0.077630</td>\n      <td>0.056204</td>\n      <td>-0.048680</td>\n      <td>...</td>\n      <td>-0.085649</td>\n      <td>0.054452</td>\n      <td>-0.142332</td>\n      <td>-0.014263</td>\n      <td>0.074672</td>\n      <td>0.005945</td>\n      <td>-0.303833</td>\n      <td>-0.273479</td>\n      <td>2.864442</td>\n      <td>saws_min</td>\n    </tr>\n    <tr>\n      <th>159</th>\n      <td>0.002784</td>\n      <td>0.041782</td>\n      <td>0.049873</td>\n      <td>0.034299</td>\n      <td>0.036486</td>\n      <td>0.034947</td>\n      <td>-0.125852</td>\n      <td>-0.035572</td>\n      <td>-0.004045</td>\n      <td>0.047555</td>\n      <td>...</td>\n      <td>-0.073291</td>\n      <td>0.075850</td>\n      <td>-0.069519</td>\n      <td>-0.057232</td>\n      <td>0.038064</td>\n      <td>0.023209</td>\n      <td>0.123303</td>\n      <td>0.079912</td>\n      <td>2.881850</td>\n      <td>rhot50</td>\n    </tr>\n    <tr>\n      <th>61</th>\n      <td>0.019899</td>\n      <td>-0.000317</td>\n      <td>0.000239</td>\n      <td>0.024190</td>\n      <td>-0.003582</td>\n      <td>-0.008080</td>\n      <td>-0.042359</td>\n      <td>-0.051023</td>\n      <td>0.048759</td>\n      <td>-0.052466</td>\n      <td>...</td>\n      <td>-0.015969</td>\n      <td>0.053746</td>\n      <td>-0.008535</td>\n      <td>0.019009</td>\n      <td>0.006065</td>\n      <td>-0.017464</td>\n      <td>0.000902</td>\n      <td>-0.019587</td>\n      <td>2.999170</td>\n      <td>sbps_max</td>\n    </tr>\n    <tr>\n      <th>72</th>\n      <td>0.019705</td>\n      <td>-0.000490</td>\n      <td>0.000271</td>\n      <td>0.023920</td>\n      <td>-0.003463</td>\n      <td>-0.007957</td>\n      <td>-0.042059</td>\n      <td>-0.050924</td>\n      <td>0.048544</td>\n      <td>-0.052154</td>\n      <td>...</td>\n      <td>-0.016760</td>\n      <td>0.054930</td>\n      <td>-0.009260</td>\n      <td>0.019854</td>\n      <td>0.006658</td>\n      <td>-0.015843</td>\n      <td>0.001160</td>\n      <td>-0.021077</td>\n      <td>3.008616</td>\n      <td>sbwps_max</td>\n    </tr>\n    <tr>\n      <th>105</th>\n      <td>0.043886</td>\n      <td>0.008546</td>\n      <td>-0.035272</td>\n      <td>0.048161</td>\n      <td>-0.029203</td>\n      <td>0.066732</td>\n      <td>0.045413</td>\n      <td>-0.017460</td>\n      <td>-0.028634</td>\n      <td>0.052833</td>\n      <td>...</td>\n      <td>-0.170532</td>\n      <td>-0.197419</td>\n      <td>-0.385831</td>\n      <td>0.187489</td>\n      <td>0.421579</td>\n      <td>0.055432</td>\n      <td>0.113128</td>\n      <td>0.044324</td>\n      <td>3.535075</td>\n      <td>saws_max</td>\n    </tr>\n  </tbody>\n</table>\n<p>253 rows × 42 columns</p>\n</div>"
     },
     "execution_count": 17,
     "metadata": {},
     "output_type": "execute_result"
    }
   ],
   "source": [
    "component_feature_map['sum']= (component_feature_map.abs().sum(axis=1))\n",
    "component_feature_map['feature']=df.columns[:-2]\n",
    "component_feature_map=component_feature_map.sort_values(by='sum')\n",
    "component_feature_map"
   ],
   "metadata": {
    "collapsed": false,
    "pycharm": {
     "name": "#%%\n"
    }
   }
  },
  {
   "cell_type": "code",
   "execution_count": 18,
   "outputs": [],
   "source": [
    "#sum(component_feature_map.abs())"
   ],
   "metadata": {
    "collapsed": false,
    "pycharm": {
     "name": "#%%\n"
    }
   }
  },
  {
   "cell_type": "code",
   "execution_count": 19,
   "outputs": [
    {
     "data": {
      "text/plain": "['rorms',\n 'mbrps_q1',\n 'swar_q2',\n 'sraw_max',\n 'mrhot10_q1',\n 'mwhot25_q1',\n 'maios_min',\n 'mars_q2',\n 'mwhot10_max',\n 'saws_q3',\n 'sbrps_max',\n 'mbwps_max',\n 'mbwps_max',\n 'saios_q3',\n 'mbwps_max',\n 'saios_q3',\n 'swhot25_max',\n 'saws_q1',\n 'swhot10_max',\n 'sars_max',\n 'mwhot10_q3',\n 'sbwps_max',\n 'swhot25_min',\n 'sbps_max',\n 'shot10_max',\n 'swaw_min',\n 'mrhot50_max',\n 'mhot50_q1',\n 'mrhot50_min',\n 'mhot50_min',\n 'saws_max',\n 'srwr_min',\n 'srhot10_max',\n 'shot10_max',\n 'saws_max',\n 'swar_min',\n 'saws_max',\n 'shot10_max',\n 'saws_min',\n 'maws_max']"
     },
     "execution_count": 19,
     "metadata": {},
     "output_type": "execute_result"
    }
   ],
   "source": [
    "n_pcs= pca.components_.shape[0]\n",
    "most_important = [np.abs(pca.components_[i]).argmax() for i in range(n_pcs)]\n",
    "most_important_values = [(np.abs(pca.components_[i]).max()) for i in range(n_pcs)]\n",
    "#most_important\n",
    "initial_feature_names=df.columns\n",
    "most_important_names = [initial_feature_names[most_important[i]] for i in range(n_pcs)]\n",
    "most_important_names"
   ],
   "metadata": {
    "collapsed": false,
    "pycharm": {
     "name": "#%%\n"
    }
   }
  },
  {
   "cell_type": "code",
   "execution_count": 20,
   "outputs": [
    {
     "data": {
      "text/plain": "array([0.01321107, 0.01861508, 0.01592365, 0.01714402, 0.03089099,\n       0.02615232, 0.02692176, 0.07178086, 0.04561353, 0.02968599,\n       0.03410854, 0.05242978, 0.0377343 , 0.03210144, 0.03970748,\n       0.0534099 , 0.04560888, 0.05066469, 0.04347203, 0.04012019,\n       0.03470874, 0.09058907, 0.03752456, 0.09698979, 0.06224301,\n       0.02890417, 0.06124428, 0.05934533, 0.12631201, 0.04638128,\n       0.15161294, 0.0461889 , 0.085198  , 0.07134357, 0.14886534,\n       0.10588754, 0.17772852, 0.08865338, 0.09231462, 0.08303528])"
     },
     "execution_count": 20,
     "metadata": {},
     "output_type": "execute_result"
    }
   ],
   "source": [
    "np.array(most_important_values)**2\n",
    "#component_feature_map.sum(axis=1)"
   ],
   "metadata": {
    "collapsed": false,
    "pycharm": {
     "name": "#%%\n"
    }
   }
  },
  {
   "cell_type": "code",
   "execution_count": 21,
   "outputs": [
    {
     "data": {
      "text/plain": "array([0.18632837, 0.3231001 , 0.42844205, 0.50540152, 0.56784631,\n       0.61948301, 0.66149885, 0.68804608, 0.71290863, 0.73459095,\n       0.75405106, 0.77079788, 0.78565823, 0.8003128 , 0.81271811,\n       0.82430867, 0.83386979, 0.84269327, 0.85084847, 0.85796362,\n       0.86471327, 0.87121581, 0.87715787, 0.8826172 , 0.88788855,\n       0.89265918, 0.89721292, 0.90157996, 0.90573501, 0.90944074,\n       0.91296839, 0.91630844, 0.91959435, 0.92261541, 0.92544593,\n       0.92813635, 0.93074217, 0.93324198, 0.93564211, 0.93794424])"
     },
     "execution_count": 21,
     "metadata": {},
     "output_type": "execute_result"
    }
   ],
   "source": [
    "pca.explained_variance_ratio_.cumsum()\n",
    "#pca.explained_variance_ratio_"
   ],
   "metadata": {
    "collapsed": false,
    "pycharm": {
     "name": "#%%\n"
    }
   }
  },
  {
   "cell_type": "code",
   "execution_count": 22,
   "outputs": [
    {
     "name": "stdout",
     "output_type": "stream",
     "text": [
      "Index(['shot25_q2'], dtype='object') 0    0.112498\n",
      "dtype: float64\n",
      "Index(['mbrps_q1'], dtype='object') 1    0.136437\n",
      "dtype: float64\n",
      "Index(['swar_q2'], dtype='object') 2    0.126189\n",
      "dtype: float64\n",
      "Index(['sraw_max'], dtype='object') 3    0.130935\n",
      "dtype: float64\n",
      "Index(['mrhot10_q1'], dtype='object') 4    0.175758\n",
      "dtype: float64\n",
      "Index(['saws_q2'], dtype='object') 5    0.139259\n",
      "dtype: float64\n",
      "Index(['maios_min'], dtype='object') 6    0.164079\n",
      "dtype: float64\n",
      "Index(['mars_q2'], dtype='object') 7    0.267919\n",
      "dtype: float64\n",
      "Index(['mwhot10_max'], dtype='object') 8    0.213573\n",
      "dtype: float64\n",
      "Index(['saws_q3'], dtype='object') 9    0.172296\n",
      "dtype: float64\n",
      "Index(['sbrps_max'], dtype='object') 10    0.184685\n",
      "dtype: float64\n",
      "Index(['mbwps_max'], dtype='object') 11    0.228976\n",
      "dtype: float64\n",
      "Index(['mbwps_max'], dtype='object') 12    0.194253\n",
      "dtype: float64\n",
      "Index(['saios_q3'], dtype='object') 13    0.179169\n",
      "dtype: float64\n",
      "Index(['mbwps_max'], dtype='object') 14    0.199267\n",
      "dtype: float64\n",
      "Index(['saios_q3'], dtype='object') 15    0.231106\n",
      "dtype: float64\n",
      "Index(['swhot25_max'], dtype='object') 16    0.213562\n",
      "dtype: float64\n",
      "Index(['saws_q1'], dtype='object') 17    0.225088\n",
      "dtype: float64\n",
      "Index(['saws_min'], dtype='object') 18    0.183092\n",
      "dtype: float64\n",
      "Index(['sbps_max'], dtype='object') 19    0.192844\n",
      "dtype: float64\n",
      "Index(['mwhot10_q3'], dtype='object') 20    0.186303\n",
      "dtype: float64\n",
      "Index(['sbwps_max'], dtype='object') 21    0.30098\n",
      "dtype: float64\n",
      "Index(['swhot25_min'], dtype='object') 22    0.193713\n",
      "dtype: float64\n",
      "Index(['sbps_max'], dtype='object') 23    0.311432\n",
      "dtype: float64\n",
      "Index(['shot10_max'], dtype='object') 24    0.249485\n",
      "dtype: float64\n",
      "Index(['sraw_max'], dtype='object') 25    0.160335\n",
      "dtype: float64\n",
      "Index(['mhot10_q1'], dtype='object') 26    0.14574\n",
      "dtype: float64\n",
      "Index(['mhot50_q1'], dtype='object') 27    0.243609\n",
      "dtype: float64\n",
      "Index(['saws_max'], dtype='object') 28    0.284796\n",
      "dtype: float64\n",
      "Index(['mwhot10_min'], dtype='object') 29    0.195981\n",
      "dtype: float64\n",
      "Index(['saws_max'], dtype='object') 30    0.389375\n",
      "dtype: float64\n",
      "Index(['swaw_q2'], dtype='object') 31    0.203736\n",
      "dtype: float64\n",
      "Index(['srar_min'], dtype='object') 32    0.127878\n",
      "dtype: float64\n",
      "Index(['srwr_min'], dtype='object') 33    0.262129\n",
      "dtype: float64\n",
      "Index(['swaw_min'], dtype='object') 34    0.198183\n",
      "dtype: float64\n",
      "Index(['swar_min'], dtype='object') 35    0.325404\n",
      "dtype: float64\n",
      "Index(['saws_max'], dtype='object') 36    0.421579\n",
      "dtype: float64\n",
      "Index(['mwar_max'], dtype='object') 37    0.161305\n",
      "dtype: float64\n",
      "Index(['shot25_q1'], dtype='object') 38    0.198578\n",
      "dtype: float64\n",
      "Index(['maws_max'], dtype='object') 39    0.288158\n",
      "dtype: float64\n"
     ]
    }
   ],
   "source": [
    "for i in range(40):\n",
    "    col_idx=component_feature_map[[i]].idxmax()\n",
    "    attr_significance = component_feature_map[[i]].max()\n",
    "    print(df.columns[col_idx],\n",
    "          attr_significance\n",
    "          #df[df.columns[col_idx]].min(),\n",
    "          #df[df.columns[col_idx]].max()\n",
    "          )"
   ],
   "metadata": {
    "collapsed": false,
    "pycharm": {
     "name": "#%%\n"
    }
   }
  },
  {
   "cell_type": "code",
   "execution_count": 23,
   "outputs": [],
   "source": [
    "num_pcs = 40\n",
    "labels__ = [\"ssdtrace-08\", \"cassandra\", \"2016022212-LUN3\", \"ssdtrace-06\", \"2016022619-LUN0\", \"nginx\",\n",
    "            \"2016022314-LUN0\", \"ssdtrace-00\", \"elasticsearch\", \"mysql\"]\n",
    "trace_points = []\n",
    "\n",
    "p9 = finalDf_10.loc[finalDf_10['trace'] == \"2016022212-LUN3\"]\n",
    "trace_points.append(np.array(p9.iloc[:,:num_pcs])[0])\n",
    "\n",
    "p9 = finalDf_10.loc[finalDf_10['trace'] == \"2016022314-LUN0\"]\n",
    "trace_points.append(np.array(p9.iloc[:,:num_pcs])[0])\n",
    "\n",
    "p7 = finalDf_10.loc[finalDf_10['trace'] == \"cassandra\"]\n",
    "trace_points.append(np.array(p7.iloc[:,:num_pcs])[0])\n",
    "\n",
    "p7 = finalDf_10.loc[finalDf_10['trace'] == \"elasticsearch\"]\n",
    "trace_points.append(np.array(p7.iloc[:,:num_pcs])[0])\n",
    "\n",
    "p106 = finalDf_10.loc[finalDf_10['trace'] == \"Exchange_12-12-2007_02-39-PM_trace\"]\n",
    "trace_points.append(np.array(p106.iloc[:,:num_pcs])[0])\n",
    "\n",
    "p106 = finalDf_10.loc[finalDf_10['trace'] == \"log106_Messaging\"]\n",
    "trace_points.append(np.array(p106.iloc[:,:num_pcs])[0])\n",
    "\n",
    "#p106 = finalDf_10.loc[finalDf_10['trace'] == \"DisplayAdsDataServer_2008-03-07_06-03_trace_csv\"]\n",
    "#trace_points.append(np.array(p106.iloc[:,:num_pcs])[0])\n",
    "\n",
    "\n",
    "\n",
    "p9 = finalDf_10.loc[finalDf_10['trace'] == \"log111_email\"]\n",
    "trace_points.append(np.array(p9.iloc[:,:num_pcs])[0])\n",
    "\n",
    "\n",
    "#p9 = finalDf_10.loc[finalDf_10['trace'] == \"log131_music\"]\n",
    "#trace_points.append(np.array(p9.iloc[:,:num_pcs])[0])\n",
    "\n",
    "p7 = finalDf_10.loc[finalDf_10['trace'] == \"mysql\"]\n",
    "trace_points.append(np.array(p7.iloc[:,:num_pcs])[0])\n",
    "\n",
    "p7 = finalDf_10.loc[finalDf_10['trace'] == \"24Hour_RADIUS_08-28-2007_02-43-PM\"]\n",
    "trace_points.append(np.array(p7.iloc[:,:num_pcs])[0])\n",
    "\n",
    "p7 = finalDf_10.loc[finalDf_10['trace'] == \"sonarqube\"]\n",
    "trace_points.append(np.array(p7.iloc[:,:num_pcs])[0])\n",
    "\n",
    "p3 = finalDf_10.loc[finalDf_10['trace'] == \"ssdtrace-00\"]\n",
    "trace_points.append(np.array(p3.iloc[:,:num_pcs])[0])\n",
    "\n",
    "p8 = finalDf_10.loc[finalDf_10['trace'] == \"ssdtrace-06\"]\n",
    "trace_points.append(np.array(p8.iloc[:,:num_pcs])[0])\n",
    "\n",
    "#p106 = finalDf_10.loc[finalDf_10['trace'] == \"log121_Movie\"]\n",
    "#trace_points.append(np.array(p106.iloc[:,:num_pcs])[0])\n",
    "\n",
    "p106 = finalDf_10.loc[finalDf_10['trace'] == \"ssdtrace-08\"]\n",
    "trace_points.append(np.array(p106.iloc[:,:num_pcs])[0])\n",
    "\n",
    "#p9 = finalDf_10.loc[finalDf_10['trace'] == \"W2K8_TPCC_02-26-2008_10-09-AM_trace\"]\n",
    "#trace_points.append(np.array(p9.iloc[:,:num_pcs])[0])\n",
    "\n",
    "p9 = finalDf_10.loc[finalDf_10['trace'] == \"W2K8_TPCC_10-19-2007_04-01-PM_trace\"]\n",
    "trace_points.append(np.array(p9.iloc[:,:num_pcs])[0])\n",
    "\n",
    "\n",
    "\n",
    "\n",
    "#p8 = finalDf_10.loc[finalDf_10['trace'] == \"2016022619-LUN0\"]\n",
    "#trace_points.append(np.array(p8.iloc[:,:num_pcs])[0])\n",
    "\n",
    "\n",
    "\n",
    "\n",
    "\n",
    "\n",
    "\n",
    "p7 = finalDf_10.loc[finalDf_10['trace'] == \"W2K8_TPCC_02-26-2008_09-43-AM_trace\"]\n",
    "trace_points.append(np.array(p7.iloc[:,:num_pcs])[0])\n",
    "\n",
    "\n",
    "\n",
    "#p8 = finalDf_10.loc[finalDf_10['trace'] == \"ssdtrace-08\"]\n",
    "#trace_points.append(np.array(p8.iloc[:,:num_pcs])[0])\n",
    "\n",
    "\n"
   ],
   "metadata": {
    "collapsed": false,
    "pycharm": {
     "name": "#%%\n"
    }
   }
  },
  {
   "cell_type": "code",
   "execution_count": 24,
   "outputs": [
    {
     "data": {
      "text/plain": "'\\nfrom scipy.spatial import distance\\n\\n#p1.iloc[:,:14]\\n#print(len(trace_points[0]))\\n#pd.DataFrame(trace_points)\\ndistances={}\\nfor i in transormed_finaldf10.trace:\\n    name=\\'_\\'.join(i.split(\"_\")[:-1])\\n    #print(name)\\n    #print(finalDf_10.loc[finalDf_10[\\'trace\\'] == name])\\n    #print(finalDf_10.loc[finalDf_10[\\'trace\\'] == i])\\n    non_acc = np.array(finalDf_10.loc[finalDf_10[\\'trace\\'] == name].iloc[:,:num_pcs][0])\\n    acc = np.array(finalDf_10.loc[finalDf_10[\\'trace\\'] == i].iloc[:,:num_pcs][0])\\n\\n    dist = distance.cityblock(non_acc,acc)\\n    distances[name] = dist\\ndistances\\n'"
     },
     "execution_count": 24,
     "metadata": {},
     "output_type": "execute_result"
    }
   ],
   "source": [
    "\"\"\"\n",
    "from scipy.spatial import distance\n",
    "\n",
    "#p1.iloc[:,:14]\n",
    "#print(len(trace_points[0]))\n",
    "#pd.DataFrame(trace_points)\n",
    "distances={}\n",
    "for i in transormed_finaldf10.trace:\n",
    "    name='_'.join(i.split(\"_\")[:-1])\n",
    "    #print(name)\n",
    "    #print(finalDf_10.loc[finalDf_10['trace'] == name])\n",
    "    #print(finalDf_10.loc[finalDf_10['trace'] == i])\n",
    "    non_acc = np.array(finalDf_10.loc[finalDf_10['trace'] == name].iloc[:,:num_pcs][0])\n",
    "    acc = np.array(finalDf_10.loc[finalDf_10['trace'] == i].iloc[:,:num_pcs][0])\n",
    "\n",
    "    dist = distance.cityblock(non_acc,acc)\n",
    "    distances[name] = dist\n",
    "distances\n",
    "\"\"\""
   ],
   "metadata": {
    "collapsed": false,
    "pycharm": {
     "name": "#%%\n"
    }
   }
  },
  {
   "cell_type": "code",
   "execution_count": 25,
   "outputs": [
    {
     "name": "stdout",
     "output_type": "stream",
     "text": [
      "[0.0, 66.6206536594227, 92.82914166509909, 90.42739551249169, 77.17953061270578, 110.99617859755995, 80.92516051243285, 91.42589721591175, 118.28775262641452, 81.8042788280242, 75.42776277911354, 78.24246805043103, 77.76126802079284, 118.01992916474404, 224.36794216457338]\n",
      "[66.6206536594227, 0.0, 92.29911723874966, 93.21635239406349, 72.01969682981512, 112.90442866510148, 85.76004376164454, 93.6787003515113, 114.73695471640042, 90.41249840753268, 90.94038809845273, 85.5823246267109, 84.9168021036545, 123.20869121288105, 230.2859692191517]\n",
      "[92.82914166509909, 92.29911723874966, 0.0, 50.75020968364807, 88.82140547918331, 141.77714685521764, 91.57262072538148, 48.12724340396444, 123.16628752428437, 38.9007878362772, 69.54227402458939, 68.8158739993275, 68.02830759208294, 148.0993638882997, 252.4054332761591]\n",
      "[90.42739551249169, 93.21635239406349, 50.75020968364807, 0.0, 87.5669983179668, 149.27142642084988, 99.15216783265873, 31.869600103998536, 121.82337305315308, 56.8336303829117, 80.34971962934563, 76.12440999337927, 75.94912206810918, 149.26014255484023, 249.22156029058965]\n",
      "[77.17953061270578, 72.01969682981512, 88.82140547918331, 87.5669983179668, 0.0, 117.85089240784272, 86.27221325157059, 94.95370597942554, 102.63754210608795, 82.2358667844988, 98.88301301319292, 92.30094309184196, 92.63059806209836, 124.53940827789279, 249.60192990905244]\n",
      "[110.99617859755995, 112.90442866510148, 141.77714685521764, 149.27142642084988, 117.85089240784272, 0.0, 87.56661804220903, 146.89267429848726, 134.12183313974762, 141.7128454625183, 138.49762102694743, 135.5718862761523, 135.2255097649281, 180.8588395465083, 285.6392062226911]\n",
      "[80.92516051243285, 85.76004376164454, 91.57262072538148, 99.15216783265873, 86.27221325157059, 87.56661804220903, 0.0, 100.85163733608762, 102.81519916446214, 81.45196777518474, 82.73065416006797, 86.68709554440214, 86.71471917420635, 129.8504406879707, 258.6340144912926]\n",
      "[91.42589721591175, 93.6787003515113, 48.12724340396444, 31.869600103998536, 94.95370597942554, 146.89267429848726, 100.85163733608762, 0.0, 125.37244554689161, 54.02760500077408, 83.46451455399874, 84.82740224841581, 84.45335410504885, 144.49580477988553, 254.1879483158624]\n",
      "[118.28775262641452, 114.73695471640042, 123.16628752428437, 121.82337305315308, 102.63754210608795, 134.12183313974762, 102.81519916446214, 125.37244554689161, 0.0, 116.63126051528742, 126.17725300536159, 123.7646862409305, 124.07441078402336, 156.4692015819373, 289.7640500238186]\n",
      "[81.8042788280242, 90.41249840753268, 38.9007878362772, 56.8336303829117, 82.2358667844988, 141.7128454625183, 81.45196777518474, 54.02760500077408, 116.63126051528742, 0.0, 62.66445035868806, 76.87824911672374, 76.25737608201595, 134.97939726949286, 241.20264379992545]\n",
      "[75.42776277911354, 90.94038809845273, 69.54227402458939, 80.34971962934563, 98.88301301319292, 138.49762102694743, 82.73065416006797, 83.46451455399874, 126.17725300536159, 62.66445035868806, 0.0, 39.44767338629906, 37.38700405625591, 104.37697215478494, 242.58045193642948]\n",
      "[78.24246805043103, 85.5823246267109, 68.8158739993275, 76.12440999337927, 92.30094309184196, 135.5718862761523, 86.68709554440214, 84.82740224841581, 123.7646862409305, 76.87824911672374, 39.44767338629906, 0.0, 3.016747415047935, 113.98388286197086, 239.88349757823624]\n",
      "[77.76126802079284, 84.9168021036545, 68.02830759208294, 75.94912206810918, 92.63059806209836, 135.2255097649281, 86.71471917420635, 84.45335410504885, 124.07441078402336, 76.25737608201595, 37.38700405625591, 3.016747415047935, 0.0, 112.72561810849625, 240.66508522575205]\n",
      "[118.01992916474404, 123.20869121288105, 148.0993638882997, 149.26014255484023, 124.53940827789279, 180.8588395465083, 129.8504406879707, 144.49580477988553, 156.4692015819373, 134.97939726949286, 104.37697215478494, 113.98388286197086, 112.72561810849625, 0.0, 230.84770832915478]\n",
      "[224.36794216457338, 230.2859692191517, 252.4054332761591, 249.22156029058965, 249.60192990905244, 285.6392062226911, 258.6340144912926, 254.1879483158624, 289.7640500238186, 241.20264379992545, 242.58045193642948, 239.88349757823624, 240.66508522575205, 230.84770832915478, 0.0]\n",
      "avg distance: 109.36926223422648\n"
     ]
    }
   ],
   "source": [
    "from scipy.spatial import distance\n",
    "distance_matrix = [ [ 0 for i in range(len(trace_points)) ] for j in range(len(trace_points)) ]\n",
    "\n",
    "\n",
    "for i in range(len(trace_points)):\n",
    "    for j in range(len(trace_points)):\n",
    "        #eucledian_distance_matrix[i][j] = np.linalg.norm(trace_points[i] - trace_points[j])\n",
    "        distance_matrix[i][j] = distance.cityblock(trace_points[i], trace_points[j])\n",
    "        #print(distance.jensenshannon(trace_points[i], trace_points[j]))\n",
    "\n",
    "        #distance_matrix[i][j] = distance.jensenshannon(trace_points[i], trace_points[j])\n",
    "sum_dist=0\n",
    "for i in range(len(distance_matrix)):\n",
    "    sum_dist+=sum(distance_matrix[i])\n",
    "    print(distance_matrix[i])\n",
    "print(\"avg distance:\", sum_dist/(len(distance_matrix)**2))\n",
    "\n",
    "df_list = []\n",
    "for i in range(len(trace_points)):\n",
    "    for j in distance_matrix[i]:\n",
    "        df_list.append(j)"
   ],
   "metadata": {
    "collapsed": false,
    "pycharm": {
     "name": "#%%\n"
    }
   }
  },
  {
   "cell_type": "code",
   "execution_count": 26,
   "outputs": [
    {
     "name": "stdout",
     "output_type": "stream",
     "text": [
      "15\n"
     ]
    },
    {
     "data": {
      "text/plain": "                         trace_name  euclidean_dist\n0    2016022212LUN3<>2016022212LUN3        0.000000\n1    2016022212LUN3<>2016022314LUN0       66.620654\n2         2016022212LUN3<>cassandra       92.829142\n3     2016022212LUN3<>elasticsearch       90.427396\n4       2016022212LUN3<>exch_2-39pm       77.179531\n..                              ...             ...\n220        tpcc_9-43am<>ssdtrace-00      242.580452\n221        tpcc_9-43am<>ssdtrace-06      239.883498\n222        tpcc_9-43am<>ssdtrace-08      240.665085\n223        tpcc_9-43am<>tpcc_4-01pm      230.847708\n224        tpcc_9-43am<>tpcc_9-43am        0.000000\n\n[225 rows x 2 columns]",
      "text/html": "<div>\n<style scoped>\n    .dataframe tbody tr th:only-of-type {\n        vertical-align: middle;\n    }\n\n    .dataframe tbody tr th {\n        vertical-align: top;\n    }\n\n    .dataframe thead th {\n        text-align: right;\n    }\n</style>\n<table border=\"1\" class=\"dataframe\">\n  <thead>\n    <tr style=\"text-align: right;\">\n      <th></th>\n      <th>trace_name</th>\n      <th>euclidean_dist</th>\n    </tr>\n  </thead>\n  <tbody>\n    <tr>\n      <th>0</th>\n      <td>2016022212LUN3&lt;&gt;2016022212LUN3</td>\n      <td>0.000000</td>\n    </tr>\n    <tr>\n      <th>1</th>\n      <td>2016022212LUN3&lt;&gt;2016022314LUN0</td>\n      <td>66.620654</td>\n    </tr>\n    <tr>\n      <th>2</th>\n      <td>2016022212LUN3&lt;&gt;cassandra</td>\n      <td>92.829142</td>\n    </tr>\n    <tr>\n      <th>3</th>\n      <td>2016022212LUN3&lt;&gt;elasticsearch</td>\n      <td>90.427396</td>\n    </tr>\n    <tr>\n      <th>4</th>\n      <td>2016022212LUN3&lt;&gt;exch_2-39pm</td>\n      <td>77.179531</td>\n    </tr>\n    <tr>\n      <th>...</th>\n      <td>...</td>\n      <td>...</td>\n    </tr>\n    <tr>\n      <th>220</th>\n      <td>tpcc_9-43am&lt;&gt;ssdtrace-00</td>\n      <td>242.580452</td>\n    </tr>\n    <tr>\n      <th>221</th>\n      <td>tpcc_9-43am&lt;&gt;ssdtrace-06</td>\n      <td>239.883498</td>\n    </tr>\n    <tr>\n      <th>222</th>\n      <td>tpcc_9-43am&lt;&gt;ssdtrace-08</td>\n      <td>240.665085</td>\n    </tr>\n    <tr>\n      <th>223</th>\n      <td>tpcc_9-43am&lt;&gt;tpcc_4-01pm</td>\n      <td>230.847708</td>\n    </tr>\n    <tr>\n      <th>224</th>\n      <td>tpcc_9-43am&lt;&gt;tpcc_9-43am</td>\n      <td>0.000000</td>\n    </tr>\n  </tbody>\n</table>\n<p>225 rows × 2 columns</p>\n</div>"
     },
     "execution_count": 26,
     "metadata": {},
     "output_type": "execute_result"
    }
   ],
   "source": [
    "\n",
    "#labels_ = [\"ssdtrace-08_860evo\", \"divdev_719\", \"cassandra_860evo\", \"2016022212-LUN3_860evo\",\n",
    "#            \"ssdtrace-06_860evo\", \"2016022619-LUN0_860evo\",\"ms-ent-tpce\", \"nginx_860evo\",\"ms-ent-tpcc\",\n",
    "#            \"radius_447\", \"2016022314-LUN0_860evo\", \"ssdtrace-00_860evo\",\n",
    "#            \"elasticsearch_860evo\", \"mysql_860evo\",\n",
    "#             ]\n",
    "\"\"\"\n",
    "labels_ = [\n",
    "    'exch_02-39pm',\n",
    "    'ssdtrace-08',\n",
    "    '2016022314LUN0',\n",
    "    'tpcc-4-01pm',\n",
    "    'log106messaging',\n",
    "    #'dispad_6-03',\n",
    "    'log111email',\n",
    "    'ssdtrace-00',\n",
    "    'elasticsearch',\n",
    "    'radius_2-43pm',\n",
    "    'tpcc_9-43am',\n",
    "    '2016022212LUN3',\n",
    "    'sonarqube',\n",
    "    'cassandra',\n",
    "\n",
    "    'ssdtrace-06',\n",
    "    'mysql'\n",
    "]\n",
    "\n",
    "\n",
    "labels_ = [\n",
    "\n",
    "    '2016022314LUN0',\n",
    "    'ssdtrace-08',\n",
    "    '2016022212LUN3',\n",
    "    'tpcc-4-01pm',\n",
    "\n",
    "\n",
    "    'log111email',\n",
    "    'log106messaging',\n",
    "    'ssdtrace-00',\n",
    "    'elasticsearch',\n",
    "\n",
    "    'tpcc_9-43am',\n",
    "    'sonarqube',\n",
    "\n",
    "    'cassandra',\n",
    "    'ssdtrace-06',\n",
    "    'exch_02-39pm',\n",
    "    'mysql'\n",
    "]\"\"\"\n",
    "\n",
    "labels_=['2016022212LUN3',\n",
    "'2016022314LUN0',\n",
    "'cassandra',\n",
    "'elasticsearch',\n",
    "'exch_2-39pm',\n",
    "'log106messaging',\n",
    "'log111email',\n",
    "\n",
    "'mysql',\n",
    "'radius_2-43pm',\n",
    "'sonarqube',\n",
    "'ssdtrace-00',\n",
    "'ssdtrace-06',\n",
    "'ssdtrace-08',\n",
    "#'tpcc_10-09',\n",
    "'tpcc_4-01pm',\n",
    "'tpcc_9-43am'\n",
    " ]\n",
    "print(len(labels_))\n",
    "labels_ext=[]\n",
    "for i in labels_:\n",
    "    for j in range(len(labels_)):\n",
    "        labels_ext.append(i+\"<>\"+labels_[j])\n",
    "df_eucl = pd.DataFrame()\n",
    "df_eucl['trace_name'] = labels_ext\n",
    "df_eucl['euclidean_dist'] = df_list\n",
    "df_eucl.to_csv('/media/odesai/data/sim_score_comparisons/euclidean.csv')\n",
    "df_eucl"
   ],
   "metadata": {
    "collapsed": false,
    "pycharm": {
     "name": "#%%\n"
    }
   }
  },
  {
   "cell_type": "code",
   "execution_count": 27,
   "outputs": [
    {
     "data": {
      "text/plain": "[[0.0,\n  66.6206536594227,\n  92.82914166509909,\n  90.42739551249169,\n  77.17953061270578,\n  110.99617859755995,\n  80.92516051243285,\n  91.42589721591175,\n  118.28775262641452,\n  81.8042788280242,\n  75.42776277911354,\n  78.24246805043103,\n  77.76126802079284,\n  118.01992916474404,\n  224.36794216457338],\n [66.6206536594227,\n  0.0,\n  92.29911723874966,\n  93.21635239406349,\n  72.01969682981512,\n  112.90442866510148,\n  85.76004376164454,\n  93.6787003515113,\n  114.73695471640042,\n  90.41249840753268,\n  90.94038809845273,\n  85.5823246267109,\n  84.9168021036545,\n  123.20869121288105,\n  230.2859692191517],\n [92.82914166509909,\n  92.29911723874966,\n  0.0,\n  50.75020968364807,\n  88.82140547918331,\n  141.77714685521764,\n  91.57262072538148,\n  48.12724340396444,\n  123.16628752428437,\n  38.9007878362772,\n  69.54227402458939,\n  68.8158739993275,\n  68.02830759208294,\n  148.0993638882997,\n  252.4054332761591],\n [90.42739551249169,\n  93.21635239406349,\n  50.75020968364807,\n  0.0,\n  87.5669983179668,\n  149.27142642084988,\n  99.15216783265873,\n  31.869600103998536,\n  121.82337305315308,\n  56.8336303829117,\n  80.34971962934563,\n  76.12440999337927,\n  75.94912206810918,\n  149.26014255484023,\n  249.22156029058965],\n [77.17953061270578,\n  72.01969682981512,\n  88.82140547918331,\n  87.5669983179668,\n  0.0,\n  117.85089240784272,\n  86.27221325157059,\n  94.95370597942554,\n  102.63754210608795,\n  82.2358667844988,\n  98.88301301319292,\n  92.30094309184196,\n  92.63059806209836,\n  124.53940827789279,\n  249.60192990905244],\n [110.99617859755995,\n  112.90442866510148,\n  141.77714685521764,\n  149.27142642084988,\n  117.85089240784272,\n  0.0,\n  87.56661804220903,\n  146.89267429848726,\n  134.12183313974762,\n  141.7128454625183,\n  138.49762102694743,\n  135.5718862761523,\n  135.2255097649281,\n  180.8588395465083,\n  285.6392062226911],\n [80.92516051243285,\n  85.76004376164454,\n  91.57262072538148,\n  99.15216783265873,\n  86.27221325157059,\n  87.56661804220903,\n  0.0,\n  100.85163733608762,\n  102.81519916446214,\n  81.45196777518474,\n  82.73065416006797,\n  86.68709554440214,\n  86.71471917420635,\n  129.8504406879707,\n  258.6340144912926],\n [91.42589721591175,\n  93.6787003515113,\n  48.12724340396444,\n  31.869600103998536,\n  94.95370597942554,\n  146.89267429848726,\n  100.85163733608762,\n  0.0,\n  125.37244554689161,\n  54.02760500077408,\n  83.46451455399874,\n  84.82740224841581,\n  84.45335410504885,\n  144.49580477988553,\n  254.1879483158624],\n [118.28775262641452,\n  114.73695471640042,\n  123.16628752428437,\n  121.82337305315308,\n  102.63754210608795,\n  134.12183313974762,\n  102.81519916446214,\n  125.37244554689161,\n  0.0,\n  116.63126051528742,\n  126.17725300536159,\n  123.7646862409305,\n  124.07441078402336,\n  156.4692015819373,\n  289.7640500238186],\n [81.8042788280242,\n  90.41249840753268,\n  38.9007878362772,\n  56.8336303829117,\n  82.2358667844988,\n  141.7128454625183,\n  81.45196777518474,\n  54.02760500077408,\n  116.63126051528742,\n  0.0,\n  62.66445035868806,\n  76.87824911672374,\n  76.25737608201595,\n  134.97939726949286,\n  241.20264379992545],\n [75.42776277911354,\n  90.94038809845273,\n  69.54227402458939,\n  80.34971962934563,\n  98.88301301319292,\n  138.49762102694743,\n  82.73065416006797,\n  83.46451455399874,\n  126.17725300536159,\n  62.66445035868806,\n  0.0,\n  39.44767338629906,\n  37.38700405625591,\n  104.37697215478494,\n  242.58045193642948],\n [78.24246805043103,\n  85.5823246267109,\n  68.8158739993275,\n  76.12440999337927,\n  92.30094309184196,\n  135.5718862761523,\n  86.68709554440214,\n  84.82740224841581,\n  123.7646862409305,\n  76.87824911672374,\n  39.44767338629906,\n  0.0,\n  3.016747415047935,\n  113.98388286197086,\n  239.88349757823624],\n [77.76126802079284,\n  84.9168021036545,\n  68.02830759208294,\n  75.94912206810918,\n  92.63059806209836,\n  135.2255097649281,\n  86.71471917420635,\n  84.45335410504885,\n  124.07441078402336,\n  76.25737608201595,\n  37.38700405625591,\n  3.016747415047935,\n  0.0,\n  112.72561810849625,\n  240.66508522575205],\n [118.01992916474404,\n  123.20869121288105,\n  148.0993638882997,\n  149.26014255484023,\n  124.53940827789279,\n  180.8588395465083,\n  129.8504406879707,\n  144.49580477988553,\n  156.4692015819373,\n  134.97939726949286,\n  104.37697215478494,\n  113.98388286197086,\n  112.72561810849625,\n  0.0,\n  230.84770832915478],\n [224.36794216457338,\n  230.2859692191517,\n  252.4054332761591,\n  249.22156029058965,\n  249.60192990905244,\n  285.6392062226911,\n  258.6340144912926,\n  254.1879483158624,\n  289.7640500238186,\n  241.20264379992545,\n  242.58045193642948,\n  239.88349757823624,\n  240.66508522575205,\n  230.84770832915478,\n  0.0]]"
     },
     "execution_count": 27,
     "metadata": {},
     "output_type": "execute_result"
    }
   ],
   "source": [
    "distance_matrix"
   ],
   "metadata": {
    "collapsed": false,
    "pycharm": {
     "name": "#%%\n"
    }
   }
  },
  {
   "cell_type": "code",
   "execution_count": 28,
   "outputs": [
    {
     "name": "stdout",
     "output_type": "stream",
     "text": [
      "[0.0, 0.1680130147548006, 0.23410914020727008, 0.22805209048454886, 0.1946418250696204, 0.2799252419193379, 0.20408806339123825, 0.23057024772580073, 0.2983141238591414, 0.20630514338693673, 0.1902239789707674, 0.19732248509918024, 0.19610892949384318, 0.29763869026992207, 0.565841556735746]\n",
      "[0.1625049605372988, 0.0, 0.22514135753138304, 0.22737873069616307, 0.17567461963174535, 0.2754030276932526, 0.20919087042298812, 0.22850651663719654, 0.2798730314727455, 0.22053940750724849, 0.22182706664415153, 0.20875736760632774, 0.20713398648642986, 0.3005377822583041, 0.5617268862530721]\n",
      "[0.22194945575596753, 0.22068219602636635, 0.0, 0.12134100581716178, 0.21236717535002975, 0.33898148812659123, 0.21894518216565004, 0.11506963534233476, 0.29448393029551934, 0.09300967922216834, 0.16627181502415003, 0.1645350318612759, 0.1626520031881224, 0.35409756702696565, 0.6034877360775487]\n",
      "[0.21271500413912464, 0.21927554888604742, 0.11938120081571266, 0.0, 0.20598640825704098, 0.3511355370682753, 0.23323854094651703, 0.07496779133816611, 0.28656867928551427, 0.13369140904287696, 0.1890089927578719, 0.1790696734663027, 0.17865733855896573, 0.3511089937006228, 0.5862511568349728]\n",
      "[0.18240359766777692, 0.170209013975763, 0.20991762687196575, 0.20695300170089162, 0.0, 0.2785249740817902, 0.2038929486992438, 0.22441050684084116, 0.24257023575168435, 0.1943535784648994, 0.233696903552646, 0.21814105313189172, 0.2189201489891284, 0.2943323954028303, 0.58990109992631]\n",
      "[0.1965835099723847, 0.19996318034412308, 0.2510991776007109, 0.26437217312488914, 0.2087237810853867, 0.0, 0.1550877998562648, 0.2601592042868918, 0.2375409771370427, 0.25098529445957335, 0.24529086323788987, 0.24010914244509737, 0.23949568069164975, 0.32031612202157855, 0.5058909095291758]\n",
      "[0.1906160542217817, 0.20200443283916028, 0.21569573080720988, 0.2335490579211591, 0.20321082806462895, 0.20625974798267305, 0.0, 0.23755209194620863, 0.2421771851258231, 0.19185692814931274, 0.19486882397664457, 0.20418806709789458, 0.20425313347877316, 0.3058576403947668, 0.6092023175202128]\n",
      "[0.21161747881925871, 0.21683189327237418, 0.111396947930583, 0.07376645600818235, 0.21978306449055082, 0.3400027600347614, 0.2334346162056885, 0.0, 0.29019130955184713, 0.12505412476189248, 0.19318979281197093, 0.19634437883834832, 0.19547859433453965, 0.3344548846511884, 0.5883520359861575]\n",
      "[0.22327932733222375, 0.21657686024465841, 0.23248802363574889, 0.22995314548377405, 0.19373807390573933, 0.2531676527711822, 0.19407341841612913, 0.2366523556848332, 0.0, 0.22015254170910253, 0.23817150592625055, 0.2336175578433282, 0.23420219222942956, 0.29535042556572794, 0.5469570664573725]\n",
      "[0.20345694003411346, 0.22486660270555492, 0.09675087136608135, 0.14135197686964704, 0.2045303504502666, 0.3524566479211336, 0.20258070067624803, 0.13437305906623997, 0.2900757725234387, 0.0, 0.15585391744240393, 0.19120532011964295, 0.18966113527257766, 0.33570976395787244, 0.5998995717429313]\n",
      "[0.18823845582819826, 0.22695195505400864, 0.17355055744534142, 0.20052175209742376, 0.24677366783039864, 0.34563637256931484, 0.2064636417011721, 0.20829507275861361, 0.314889510059154, 0.15638617580884392, 0.0, 0.098446100622094, 0.09330346880632892, 0.26048446007840714, 0.6053867701252349]\n",
      "[0.19627222766516172, 0.21468435137323155, 0.17262549642308583, 0.1909590520517117, 0.23153809136688322, 0.34008380347917455, 0.21745568329153434, 0.21279061897196377, 0.31046529180457516, 0.1928500670941386, 0.09895499112766008, 0.0, 0.0075675493144328875, 0.28593002195206985, 0.6017508090292338]\n",
      "[0.195373126896167, 0.2133512168111484, 0.1709193215337693, 0.19082015817305706, 0.2327319249065618, 0.33975051270817486, 0.21786843584466242, 0.21218681598608538, 0.3117336717836484, 0.19159463822087672, 0.09393385773746958, 0.007579498001193149, 0.0, 0.28322013068602675, 0.6046646541658118]\n",
      "[0.21845509306352812, 0.2280595005914127, 0.27413217877555396, 0.2762807820955178, 0.23052266018094755, 0.3347700248942092, 0.24035339036031775, 0.267461984631566, 0.2896247628266587, 0.2498470978660322, 0.19320195603518753, 0.2109843643745601, 0.2086553141390261, 0.0, 0.42729950749379497]\n",
      "[0.23995156871914988, 0.24628063632911548, 0.26993642266160617, 0.26653141163320565, 0.2669382000797311, 0.30547846969400766, 0.27659761418053386, 0.27184274348407267, 0.30988980729978743, 0.25795553589623704, 0.2594290406249369, 0.2565447674851595, 0.2573806408292015, 0.24688139140738452, 0.0]\n"
     ]
    }
   ],
   "source": [
    "from sklearn.preprocessing import normalize\n",
    "cityblock_norm_mat = normalize(distance_matrix, axis=1, norm='l2')\n",
    "for i in cityblock_norm_mat:\n",
    "    print(i.tolist())\n",
    "#cityblock_norm_mat"
   ],
   "metadata": {
    "collapsed": false,
    "pycharm": {
     "name": "#%%\n"
    }
   }
  },
  {
   "cell_type": "code",
   "execution_count": 29,
   "outputs": [
    {
     "name": "stderr",
     "output_type": "stream",
     "text": [
      "findfont: Font family ['Times New Roman'] not found. Falling back to DejaVu Sans.\n",
      "findfont: Font family ['Times New Roman'] not found. Falling back to DejaVu Sans.\n"
     ]
    },
    {
     "data": {
      "text/plain": "Text(0.5, 1.0, 'Analytical method')"
     },
     "execution_count": 29,
     "metadata": {},
     "output_type": "execute_result"
    },
    {
     "data": {
      "text/plain": "<Figure size 432x288 with 0 Axes>"
     },
     "metadata": {},
     "output_type": "display_data"
    },
    {
     "data": {
      "text/plain": "<Figure size 432x288 with 0 Axes>"
     },
     "metadata": {},
     "output_type": "display_data"
    },
    {
     "data": {
      "text/plain": "<Figure size 604.8x604.8 with 2 Axes>",
      "image/png": "[encoded data removed]"
     },
     "metadata": {
      "needs_background": "light"
     },
     "output_type": "display_data"
    }
   ],
   "source": [
    "\n",
    "cmap = sns.diverging_palette(0, 359, as_cmap=True)\n",
    "mask = np.triu(np.ones_like(cityblock_norm_mat, dtype=bool))\n",
    "#sns.heatmap(norm_mat, cmap=cmap, vmax=.3, center=0,\n",
    "#            square=True, linewidths=.5, cbar_kws={\"shrink\": .5})\n",
    "fig = plt.figure()\n",
    "font = {'family' : 'Times New Roman',\n",
    "        'weight' : 'normal',\n",
    "        'size'   : 10\n",
    "        }\n",
    "plt.rc('font', **font)\n",
    "fig = plt.figure()\n",
    "fig = plt.subplots(figsize=(8.4, 8.4))\n",
    "\n",
    "\n",
    "#labels = [\"ssdtrace-08\", 'divdev', \"cassandra\", \"2016022212-LUN3\",\n",
    "#          \"ssdtrace-06\", \"2016022619-LUN0\", \"TPCE.03-57\",\"nginx\",\n",
    "#          \"TPCC.03-48\",\"RADIUS_08-28-07\",\"2016022314-LUN0\", \"ssdtrace-00\",\n",
    "#          \"elasticsearch\", \"mysql\"]\n",
    "#labels = [\"nginx\", \"ssdtrace-12\", \"mysql\", \"elasticsearch\", \"messaging\",\n",
    "#        \"2016022212-l3\", \"2016022619-l0\", \"ssdtrace-00\", \"ssdtrace-06\"]\n",
    "labels = ['slac:nginx', 'ycsb+rocks:12', 'slac:mysql', 'nexus:messaging',\n",
    "               'vdi:2212L3','vdi:2619L0','ycsb+rocks:00', 'ycsb+rocks:06']\n",
    "\n",
    "fig = sns.heatmap(cityblock_norm_mat,\n",
    "            mask=mask,\n",
    "            xticklabels=labels_,\n",
    "            yticklabels=labels_,\n",
    "            cmap=cmap,\n",
    "            vmin=cityblock_norm_mat.min(),\n",
    "            vmax=cityblock_norm_mat.max(),\n",
    "            #center=0.5,\n",
    "            square=True,\n",
    "            linewidths=.5,\n",
    "            cbar_kws={\"shrink\": .5}\n",
    "            )\n",
    "#fig.tick_params(labelrotation=30)\n",
    "fig.set_title(\"Analytical method\")#, fontsize=8, font='Times New Roman')"
   ],
   "metadata": {
    "collapsed": false,
    "pycharm": {
     "name": "#%%\n"
    }
   }
  },
  {
   "cell_type": "code",
   "execution_count": 30,
   "outputs": [],
   "source": [
    "fig.figure.savefig('/home/odesai/figures/sim_mat_ana.png', dpi=500, bbox_inches='tight')"
   ],
   "metadata": {
    "collapsed": false,
    "pycharm": {
     "name": "#%%\n"
    }
   }
  },
  {
   "cell_type": "code",
   "execution_count": 31,
   "outputs": [
    {
     "name": "stdout",
     "output_type": "stream",
     "text": [
      "[47.16034947 34.6173951  26.66240921 19.47870649 15.80499103 13.06942492\n",
      " 10.6343555   6.71919434  6.29279555  5.48786966  4.92542086  4.23867787\n",
      "  3.76120629  3.70912209  3.13982511  2.93361087  2.41995254  2.2332549\n",
      "  2.06410805  1.80086752  1.70836153  1.64581373  1.50395779  1.38177406\n",
      "  1.33419769  1.20746154  1.15256749  1.10531263  1.05165702  0.93793487\n",
      "  0.89285916  0.84537742  0.83167593  0.76464002  0.71641356  0.68095459\n",
      "  0.65954229  0.63271047  0.60748196  0.58267605]\n",
      "[0.18632837 0.13677173 0.10534195 0.07695947 0.06244479 0.0516367\n",
      " 0.04201585 0.02654723 0.02486255 0.02168232 0.01946011 0.01674682\n",
      " 0.01486035 0.01465457 0.0124053  0.01159056 0.00956112 0.00882349\n",
      " 0.0081552  0.00711514 0.00674966 0.00650253 0.00594207 0.00545933\n",
      " 0.00527135 0.00477062 0.00455374 0.00436704 0.00415505 0.00370574\n",
      " 0.00352765 0.00334005 0.00328591 0.00302106 0.00283052 0.00269042\n",
      " 0.00260582 0.00249981 0.00240013 0.00230213]\n",
      "0.9379442359423151\n",
      "['ssdtrace' 'systor' 'nexus' 'slacker' 'msr-c' 'ms-ent' 'ms-prod']\n"
     ]
    }
   ],
   "source": [
    "finalDf.to_csv(\"/home/odesai/pca.csv\")\n",
    "#print(pca.get_precision())\n",
    "print(pca.explained_variance_)\n",
    "print(pca.explained_variance_ratio_)\n",
    "print(sum(pca.explained_variance_ratio_))\n",
    "print(finalDf[\"trace_label\"].unique())"
   ],
   "metadata": {
    "collapsed": false,
    "pycharm": {
     "name": "#%%\n"
    }
   }
  },
  {
   "cell_type": "code",
   "execution_count": 32,
   "outputs": [
    {
     "data": {
      "text/plain": "Text(0, 0.5, 'Principal Component 2')"
     },
     "execution_count": 32,
     "metadata": {},
     "output_type": "execute_result"
    },
    {
     "data": {
      "text/plain": "<Figure size 576x288 with 1 Axes>",
      "image/png": "[encoded data removed]"
     },
     "metadata": {
      "needs_background": "light"
     },
     "output_type": "display_data"
    }
   ],
   "source": [
    "fig = plt.figure(figsize=(8,4))\n",
    "\n",
    "ax = fig.add_subplot(1, 1, 1)\n",
    "ax.set_xlabel('Principal Component 1', fontsize=12)\n",
    "ax.set_ylabel('Principal Component 2', fontsize=12)\n",
    "#ax.set_title('2 Component PCA', fontsize=10)\n"
   ],
   "metadata": {
    "collapsed": false,
    "pycharm": {
     "name": "#%%\n"
    }
   }
  },
  {
   "cell_type": "code",
   "execution_count": 33,
   "outputs": [
    {
     "data": {
      "text/plain": "['ssdtrace', 'systor', 'nexus', 'slacker', 'msr-c', 'ms-ent', 'ms-prod']"
     },
     "execution_count": 33,
     "metadata": {},
     "output_type": "execute_result"
    }
   ],
   "source": [
    "targets = list(finalDf['trace_label'].unique())\n",
    "\n",
    "#print(len(targets))\n",
    "#targets\n",
    "targets"
   ],
   "metadata": {
    "collapsed": false,
    "pycharm": {
     "name": "#%%\n"
    }
   }
  },
  {
   "cell_type": "code",
   "execution_count": 34,
   "outputs": [],
   "source": [
    "#labels_plot = [\"cassandra\", \"2016022212-LUN3\", \"ssdtrace-00\", \"2016022619-LUN0\", \"nginx\",\n",
    "#            \"2016022314-LUN0\", \"ssdtrace-12\", \"mysql\", \"web_1\", \"wdev_0\",\n",
    "#               \"24_hour_BuildServer_11-28-2007_07-24-PM_trace\",\n",
    "#               \"DevDivRelease_03-06-2008_02-23-PM_trace\",\n",
    "#               \"Exchange_12-12-2007_02-39-PM_trace\",\n",
    "#               \"24Hour_RADIUS_08-28-2007_04-47-PM\",\n",
    "#               \"W2K8_TPCC_02-26-2008_09-37-AM_trace\",\n",
    "#               \"log131_music\", \"log106_Messaging\"]\n",
    "blkparse=[#'mysql_blkparse',\n",
    "          #'sonarqube_blkparse',\n",
    "          #'elasticsearch_blkparse',\n",
    "          #'cassandra_blkparse',\n",
    "          'log106_messaging_blkparse',\n",
    "          'log111_email_blkparse',\n",
    "          'log121_movie_blkparse',\n",
    "          #'ssdtrace-00_blkparse',\n",
    "          #'ssdtrace-06_blkparse',\n",
    "          #'2016022619LUN0_blkparse',\n",
    "          #'2016022212LUN3_blkparse'\n",
    "          ]\n",
    "def label_point(x, y, val, ax):\n",
    "    a = pd.concat({'x': x, 'y': y, 'val': val}, axis=1)\n",
    "    for i, point in a.iterrows():\n",
    "        #ax.text(point['x'], point['y'], str(point['val']))\n",
    "        if str(point['val']) in blkparse:#'ssdtrace-00':\n",
    "            ax.text(point['x'], point['y'], str(point['val']), size=8)"
   ],
   "metadata": {
    "collapsed": false,
    "pycharm": {
     "name": "#%%\n"
    }
   }
  },
  {
   "cell_type": "code",
   "execution_count": 35,
   "outputs": [
    {
     "data": {
      "text/plain": "<Figure size 576x288 with 1 Axes>",
      "image/png": "[encoded data removed]"
     },
     "execution_count": 35,
     "metadata": {},
     "output_type": "execute_result"
    }
   ],
   "source": [
    "#font = {'family' : 'Times New Roman',\n",
    "#        'weight' : 'normal',\n",
    "#        'size'   : 10\n",
    "#        }\n",
    "#ax=plt.rc('font', **font)\n",
    "#ax=plt.figure()\n",
    "#fig = plt.subplots(figsize=(8.4, 8.4))\n",
    "\n",
    "trace_labels = targets\n",
    "colors = ['tab:brown', 'tab:orange', 'tab:olive',\n",
    "          'tab:red', 'tab:purple', 'tab:blue', 'tab:green',\n",
    "          'tab:pink', 'tab:gray']\n",
    "#colors = ['b']*len(targets)\n",
    "\n",
    "for trace_label, color in zip(trace_labels, colors):\n",
    "    indicesToKeep = finalDf['trace_label'] == trace_label\n",
    "    ax.scatter(finalDf.loc[indicesToKeep, 'principal_component_1'],\n",
    "               finalDf.loc[indicesToKeep, 'principal_component_2'],\n",
    "               c=color,\n",
    "               s=12)\n",
    "trace_labels=['YCSB+RocksDB',\"VDI\",\"Nexus\", \"Slacker\",\n",
    "              \"MSR Cambridge\", \"MS Enterprise\",\"MS Production\"]#,\n",
    "              #\"MS-Exchange\"]\n",
    "ax.legend(trace_labels, prop={'size': 12})\n",
    "#ax.set_ylim([-10,20])\n",
    "ax.set_ylim([-20,90])\n",
    "ax.set_xlim([-20,80])\n",
    "\n",
    "#ax.grid()\n",
    "\n",
    "#this function labels the individual points on the 2pc plot\n",
    "#if finalDf['trace_label'] == \"slacker\":\n",
    "#label_point(finalDf.principal_component_1, finalDf.principal_component_2, finalDf.trace, ax)\n",
    "\n",
    "\n",
    "#plt.show()\n",
    "\n",
    "\n",
    "fig"
   ],
   "metadata": {
    "collapsed": false,
    "pycharm": {
     "name": "#%%\n"
    }
   }
  },
  {
   "cell_type": "code",
   "execution_count": 36,
   "outputs": [],
   "source": [
    "fig.savefig('/home/odesai/figures/2_pc_plot.png', dpi=500, bbox_inches='tight')"
   ],
   "metadata": {
    "collapsed": false,
    "pycharm": {
     "name": "#%%\n"
    }
   }
  },
  {
   "cell_type": "code",
   "execution_count": 36,
   "outputs": [],
   "source": [],
   "metadata": {
    "collapsed": false,
    "pycharm": {
     "name": "#%%\n"
    }
   }
  },
  {
   "cell_type": "code",
   "execution_count": 37,
   "outputs": [
    {
     "data": {
      "text/plain": "Empty DataFrame\nColumns: [principal_component_1, principal_component_2, 0, 1, 2, 3, 4, 5, 6, 7, 8, 9, 10, 11, 12, 13, 14, 15, 16, 17, 18, 19, 20, 21, 22, 23, 24, 25, 26, 27, 28, 29, 30, 31, 32, 33, 34, 35, 36, 37, 38, 39, trace]\nIndex: []\n\n[0 rows x 43 columns]",
      "text/html": "<div>\n<style scoped>\n    .dataframe tbody tr th:only-of-type {\n        vertical-align: middle;\n    }\n\n    .dataframe tbody tr th {\n        vertical-align: top;\n    }\n\n    .dataframe thead th {\n        text-align: right;\n    }\n</style>\n<table border=\"1\" class=\"dataframe\">\n  <thead>\n    <tr style=\"text-align: right;\">\n      <th></th>\n      <th>principal_component_1</th>\n      <th>principal_component_2</th>\n      <th>0</th>\n      <th>1</th>\n      <th>2</th>\n      <th>3</th>\n      <th>4</th>\n      <th>5</th>\n      <th>6</th>\n      <th>7</th>\n      <th>...</th>\n      <th>31</th>\n      <th>32</th>\n      <th>33</th>\n      <th>34</th>\n      <th>35</th>\n      <th>36</th>\n      <th>37</th>\n      <th>38</th>\n      <th>39</th>\n      <th>trace</th>\n    </tr>\n  </thead>\n  <tbody>\n  </tbody>\n</table>\n<p>0 rows × 43 columns</p>\n</div>"
     },
     "execution_count": 37,
     "metadata": {},
     "output_type": "execute_result"
    },
    {
     "data": {
      "text/plain": "<Figure size 576x288 with 1 Axes>",
      "image/png": "[encoded data removed]"
     },
     "metadata": {
      "needs_background": "light"
     },
     "output_type": "display_data"
    }
   ],
   "source": [
    "fig2 = plt.figure(figsize=(8,4))\n",
    "\n",
    "shifts = fig2.add_subplot(1, 1, 1)\n",
    "shifts.set_xlabel('Principal Component 1', fontsize=12)\n",
    "shifts.set_ylabel('Principal Component 2', fontsize=12)\n",
    "#shifts.set_title('2 Component PCA', fontsize=20)\n",
    "\n",
    "shift_df=pd.DataFrame(trace_points)\n",
    "shift_df['trace']=labels_\n",
    "accel_pc_1=finalDf.loc[finalDf['trace_label']=='accel_traces', ['principal_component_1', 'principal_component_2', 'trace']]\n",
    "#shift_df['accel_pc_2']=finalDf.loc[finalDf['trace_label']=='accel_traces', 'principal_component_2']\n",
    "accel_pc_1=accel_pc_1.merge(shift_df, on='trace')\n",
    "accel_pc_1"
   ],
   "metadata": {
    "collapsed": false,
    "pycharm": {
     "name": "#%%\n"
    }
   }
  },
  {
   "cell_type": "code",
   "execution_count": 38,
   "outputs": [
    {
     "data": {
      "text/plain": "            0          1          2          3          4         5         6  \\\n0   -6.269640   1.223980  -2.899211   3.814881   1.683797 -1.400757 -0.768853   \n1    2.065510  -5.226084   5.650429  -2.541809  -0.962719  0.986257  0.114474   \n2    6.110081   7.190882  -9.970883  -8.013682  -2.231152 -2.806398 -4.608875   \n3    4.148944   7.527846 -10.276766 -10.915662  -3.682926 -1.367989 -2.963639   \n4    6.261816   2.114198   3.343168  -8.177548  -0.596945 -3.512897  6.153482   \n5   27.969149   0.666116   3.552683   2.834468   6.654481 -8.470345  1.182355   \n6   16.372559   2.548213  -5.334584   0.175399  -1.973167  1.117804 -3.730912   \n7    3.953330   7.273897  -9.399357  -9.824037  -2.573667 -1.121290 -2.265693   \n8   11.730084   3.797497   0.967765 -10.822736  -0.211936  6.150972 -3.525390   \n9    5.260814   4.635565  -9.052580  -7.967387  -5.786500 -1.253323 -3.990667   \n10  -1.711338   9.510252  -6.710023  -1.770636  -3.901139 -1.854696 -6.359215   \n11  -2.901420  10.493206  -8.172877  -3.589977  -2.012758 -2.689735 -5.209132   \n12  -2.854434  10.417429  -8.181215  -3.385307  -2.110809 -2.789052 -5.377287   \n13  -3.509833  27.528310  12.700935   0.236413  -4.627403  2.018256 -1.819722   \n14  -3.717624  80.299035  53.742109  18.526311 -22.046521 -2.239822 -1.775935   \n\n           7         8         9  ...        31        32        33        34  \\\n0   1.231959 -0.614770 -0.503704  ...  0.354376 -0.666324 -0.289651  0.009989   \n1   0.530011 -2.459901 -3.223185  ...  0.421065 -0.420190 -0.318749 -0.486711   \n2   0.514075 -2.050350  2.177983  ... -2.257370 -2.548180  2.248542 -1.545446   \n3  -1.112250  0.434377  0.696072  ... -2.229703  0.244352  0.566202 -1.125855   \n4  -1.806613  0.761545  3.439095  ...  0.472516  1.124862 -0.691589  0.171169   \n5   0.031083 -0.152283 -2.702844  ... -1.951066 -2.870349 -0.548070  1.463919   \n6  -1.120675 -0.172839 -1.151483  ... -0.291143 -1.593338 -0.512226  1.247634   \n7   1.235704  0.771513  1.309321  ... -2.258146 -0.769608  0.070240 -2.267074   \n8   1.995031  4.894599  2.066796  ...  1.549399 -1.498593 -1.910627  1.620481   \n9   1.063039 -1.665958  2.808479  ... -1.271997 -0.453926 -0.853292 -1.482172   \n10 -0.511099 -2.797751  1.655858  ... -0.138115  0.009239 -0.580743  1.060765   \n11 -2.962007 -2.232856  0.425047  ...  1.028528  1.432875  0.770480  0.933042   \n12 -2.831933 -2.230572  0.563743  ...  0.992700  1.528314  0.684277  0.962712   \n13 -1.747248  1.110940  3.943982  ...  0.102602  2.306923 -1.138106  2.265913   \n14  6.629840 -3.028119 -2.038838  ...  0.691567 -0.729698 -0.450322 -1.204038   \n\n          35        36        37        38        39            trace  \n0  -0.074423  0.018561 -1.385738 -0.139275 -0.895442   2016022212LUN3  \n1   0.188757 -0.109066 -0.163595  0.203702  0.079496   2016022314LUN0  \n2   0.690035 -2.883819  0.357590 -2.075090  0.003303        cassandra  \n3   0.089173 -1.825128 -1.087726  0.878477  0.410433    elasticsearch  \n4  -0.041561  0.627135  0.417251  0.581549  0.210625      exch_2-39pm  \n5   0.809410  1.138552  0.540452 -0.727125  1.145075  log106messaging  \n6   0.424475  0.731735 -0.118655  1.506217 -0.438399      log111email  \n7   1.293373 -3.670929 -1.734199  0.232985 -0.347262            mysql  \n8  -1.317006 -0.904242  0.462387 -0.300815  2.088830    radius_2-43pm  \n9  -0.603243 -2.755657 -1.082308  0.476549 -0.800790        sonarqube  \n10 -0.918114  1.313482 -1.259332 -0.012087 -1.082049      ssdtrace-00  \n11  0.018150  1.014819  0.337155 -0.344301 -0.536154      ssdtrace-06  \n12  0.042012  1.185217  0.318009 -0.327423 -0.541252      ssdtrace-08  \n13 -2.737476  3.548107 -1.731196  0.205872 -1.622770      tpcc_4-01pm  \n14  1.256950 -1.475726  0.054211 -0.152628  0.171082      tpcc_9-43am  \n\n[15 rows x 41 columns]",
      "text/html": "<div>\n<style scoped>\n    .dataframe tbody tr th:only-of-type {\n        vertical-align: middle;\n    }\n\n    .dataframe tbody tr th {\n        vertical-align: top;\n    }\n\n    .dataframe thead th {\n        text-align: right;\n    }\n</style>\n<table border=\"1\" class=\"dataframe\">\n  <thead>\n    <tr style=\"text-align: right;\">\n      <th></th>\n      <th>0</th>\n      <th>1</th>\n      <th>2</th>\n      <th>3</th>\n      <th>4</th>\n      <th>5</th>\n      <th>6</th>\n      <th>7</th>\n      <th>8</th>\n      <th>9</th>\n      <th>...</th>\n      <th>31</th>\n      <th>32</th>\n      <th>33</th>\n      <th>34</th>\n      <th>35</th>\n      <th>36</th>\n      <th>37</th>\n      <th>38</th>\n      <th>39</th>\n      <th>trace</th>\n    </tr>\n  </thead>\n  <tbody>\n    <tr>\n      <th>0</th>\n      <td>-6.269640</td>\n      <td>1.223980</td>\n      <td>-2.899211</td>\n      <td>3.814881</td>\n      <td>1.683797</td>\n      <td>-1.400757</td>\n      <td>-0.768853</td>\n      <td>1.231959</td>\n      <td>-0.614770</td>\n      <td>-0.503704</td>\n      <td>...</td>\n      <td>0.354376</td>\n      <td>-0.666324</td>\n      <td>-0.289651</td>\n      <td>0.009989</td>\n      <td>-0.074423</td>\n      <td>0.018561</td>\n      <td>-1.385738</td>\n      <td>-0.139275</td>\n      <td>-0.895442</td>\n      <td>2016022212LUN3</td>\n    </tr>\n    <tr>\n      <th>1</th>\n      <td>2.065510</td>\n      <td>-5.226084</td>\n      <td>5.650429</td>\n      <td>-2.541809</td>\n      <td>-0.962719</td>\n      <td>0.986257</td>\n      <td>0.114474</td>\n      <td>0.530011</td>\n      <td>-2.459901</td>\n      <td>-3.223185</td>\n      <td>...</td>\n      <td>0.421065</td>\n      <td>-0.420190</td>\n      <td>-0.318749</td>\n      <td>-0.486711</td>\n      <td>0.188757</td>\n      <td>-0.109066</td>\n      <td>-0.163595</td>\n      <td>0.203702</td>\n      <td>0.079496</td>\n      <td>2016022314LUN0</td>\n    </tr>\n    <tr>\n      <th>2</th>\n      <td>6.110081</td>\n      <td>7.190882</td>\n      <td>-9.970883</td>\n      <td>-8.013682</td>\n      <td>-2.231152</td>\n      <td>-2.806398</td>\n      <td>-4.608875</td>\n      <td>0.514075</td>\n      <td>-2.050350</td>\n      <td>2.177983</td>\n      <td>...</td>\n      <td>-2.257370</td>\n      <td>-2.548180</td>\n      <td>2.248542</td>\n      <td>-1.545446</td>\n      <td>0.690035</td>\n      <td>-2.883819</td>\n      <td>0.357590</td>\n      <td>-2.075090</td>\n      <td>0.003303</td>\n      <td>cassandra</td>\n    </tr>\n    <tr>\n      <th>3</th>\n      <td>4.148944</td>\n      <td>7.527846</td>\n      <td>-10.276766</td>\n      <td>-10.915662</td>\n      <td>-3.682926</td>\n      <td>-1.367989</td>\n      <td>-2.963639</td>\n      <td>-1.112250</td>\n      <td>0.434377</td>\n      <td>0.696072</td>\n      <td>...</td>\n      <td>-2.229703</td>\n      <td>0.244352</td>\n      <td>0.566202</td>\n      <td>-1.125855</td>\n      <td>0.089173</td>\n      <td>-1.825128</td>\n      <td>-1.087726</td>\n      <td>0.878477</td>\n      <td>0.410433</td>\n      <td>elasticsearch</td>\n    </tr>\n    <tr>\n      <th>4</th>\n      <td>6.261816</td>\n      <td>2.114198</td>\n      <td>3.343168</td>\n      <td>-8.177548</td>\n      <td>-0.596945</td>\n      <td>-3.512897</td>\n      <td>6.153482</td>\n      <td>-1.806613</td>\n      <td>0.761545</td>\n      <td>3.439095</td>\n      <td>...</td>\n      <td>0.472516</td>\n      <td>1.124862</td>\n      <td>-0.691589</td>\n      <td>0.171169</td>\n      <td>-0.041561</td>\n      <td>0.627135</td>\n      <td>0.417251</td>\n      <td>0.581549</td>\n      <td>0.210625</td>\n      <td>exch_2-39pm</td>\n    </tr>\n    <tr>\n      <th>5</th>\n      <td>27.969149</td>\n      <td>0.666116</td>\n      <td>3.552683</td>\n      <td>2.834468</td>\n      <td>6.654481</td>\n      <td>-8.470345</td>\n      <td>1.182355</td>\n      <td>0.031083</td>\n      <td>-0.152283</td>\n      <td>-2.702844</td>\n      <td>...</td>\n      <td>-1.951066</td>\n      <td>-2.870349</td>\n      <td>-0.548070</td>\n      <td>1.463919</td>\n      <td>0.809410</td>\n      <td>1.138552</td>\n      <td>0.540452</td>\n      <td>-0.727125</td>\n      <td>1.145075</td>\n      <td>log106messaging</td>\n    </tr>\n    <tr>\n      <th>6</th>\n      <td>16.372559</td>\n      <td>2.548213</td>\n      <td>-5.334584</td>\n      <td>0.175399</td>\n      <td>-1.973167</td>\n      <td>1.117804</td>\n      <td>-3.730912</td>\n      <td>-1.120675</td>\n      <td>-0.172839</td>\n      <td>-1.151483</td>\n      <td>...</td>\n      <td>-0.291143</td>\n      <td>-1.593338</td>\n      <td>-0.512226</td>\n      <td>1.247634</td>\n      <td>0.424475</td>\n      <td>0.731735</td>\n      <td>-0.118655</td>\n      <td>1.506217</td>\n      <td>-0.438399</td>\n      <td>log111email</td>\n    </tr>\n    <tr>\n      <th>7</th>\n      <td>3.953330</td>\n      <td>7.273897</td>\n      <td>-9.399357</td>\n      <td>-9.824037</td>\n      <td>-2.573667</td>\n      <td>-1.121290</td>\n      <td>-2.265693</td>\n      <td>1.235704</td>\n      <td>0.771513</td>\n      <td>1.309321</td>\n      <td>...</td>\n      <td>-2.258146</td>\n      <td>-0.769608</td>\n      <td>0.070240</td>\n      <td>-2.267074</td>\n      <td>1.293373</td>\n      <td>-3.670929</td>\n      <td>-1.734199</td>\n      <td>0.232985</td>\n      <td>-0.347262</td>\n      <td>mysql</td>\n    </tr>\n    <tr>\n      <th>8</th>\n      <td>11.730084</td>\n      <td>3.797497</td>\n      <td>0.967765</td>\n      <td>-10.822736</td>\n      <td>-0.211936</td>\n      <td>6.150972</td>\n      <td>-3.525390</td>\n      <td>1.995031</td>\n      <td>4.894599</td>\n      <td>2.066796</td>\n      <td>...</td>\n      <td>1.549399</td>\n      <td>-1.498593</td>\n      <td>-1.910627</td>\n      <td>1.620481</td>\n      <td>-1.317006</td>\n      <td>-0.904242</td>\n      <td>0.462387</td>\n      <td>-0.300815</td>\n      <td>2.088830</td>\n      <td>radius_2-43pm</td>\n    </tr>\n    <tr>\n      <th>9</th>\n      <td>5.260814</td>\n      <td>4.635565</td>\n      <td>-9.052580</td>\n      <td>-7.967387</td>\n      <td>-5.786500</td>\n      <td>-1.253323</td>\n      <td>-3.990667</td>\n      <td>1.063039</td>\n      <td>-1.665958</td>\n      <td>2.808479</td>\n      <td>...</td>\n      <td>-1.271997</td>\n      <td>-0.453926</td>\n      <td>-0.853292</td>\n      <td>-1.482172</td>\n      <td>-0.603243</td>\n      <td>-2.755657</td>\n      <td>-1.082308</td>\n      <td>0.476549</td>\n      <td>-0.800790</td>\n      <td>sonarqube</td>\n    </tr>\n    <tr>\n      <th>10</th>\n      <td>-1.711338</td>\n      <td>9.510252</td>\n      <td>-6.710023</td>\n      <td>-1.770636</td>\n      <td>-3.901139</td>\n      <td>-1.854696</td>\n      <td>-6.359215</td>\n      <td>-0.511099</td>\n      <td>-2.797751</td>\n      <td>1.655858</td>\n      <td>...</td>\n      <td>-0.138115</td>\n      <td>0.009239</td>\n      <td>-0.580743</td>\n      <td>1.060765</td>\n      <td>-0.918114</td>\n      <td>1.313482</td>\n      <td>-1.259332</td>\n      <td>-0.012087</td>\n      <td>-1.082049</td>\n      <td>ssdtrace-00</td>\n    </tr>\n    <tr>\n      <th>11</th>\n      <td>-2.901420</td>\n      <td>10.493206</td>\n      <td>-8.172877</td>\n      <td>-3.589977</td>\n      <td>-2.012758</td>\n      <td>-2.689735</td>\n      <td>-5.209132</td>\n      <td>-2.962007</td>\n      <td>-2.232856</td>\n      <td>0.425047</td>\n      <td>...</td>\n      <td>1.028528</td>\n      <td>1.432875</td>\n      <td>0.770480</td>\n      <td>0.933042</td>\n      <td>0.018150</td>\n      <td>1.014819</td>\n      <td>0.337155</td>\n      <td>-0.344301</td>\n      <td>-0.536154</td>\n      <td>ssdtrace-06</td>\n    </tr>\n    <tr>\n      <th>12</th>\n      <td>-2.854434</td>\n      <td>10.417429</td>\n      <td>-8.181215</td>\n      <td>-3.385307</td>\n      <td>-2.110809</td>\n      <td>-2.789052</td>\n      <td>-5.377287</td>\n      <td>-2.831933</td>\n      <td>-2.230572</td>\n      <td>0.563743</td>\n      <td>...</td>\n      <td>0.992700</td>\n      <td>1.528314</td>\n      <td>0.684277</td>\n      <td>0.962712</td>\n      <td>0.042012</td>\n      <td>1.185217</td>\n      <td>0.318009</td>\n      <td>-0.327423</td>\n      <td>-0.541252</td>\n      <td>ssdtrace-08</td>\n    </tr>\n    <tr>\n      <th>13</th>\n      <td>-3.509833</td>\n      <td>27.528310</td>\n      <td>12.700935</td>\n      <td>0.236413</td>\n      <td>-4.627403</td>\n      <td>2.018256</td>\n      <td>-1.819722</td>\n      <td>-1.747248</td>\n      <td>1.110940</td>\n      <td>3.943982</td>\n      <td>...</td>\n      <td>0.102602</td>\n      <td>2.306923</td>\n      <td>-1.138106</td>\n      <td>2.265913</td>\n      <td>-2.737476</td>\n      <td>3.548107</td>\n      <td>-1.731196</td>\n      <td>0.205872</td>\n      <td>-1.622770</td>\n      <td>tpcc_4-01pm</td>\n    </tr>\n    <tr>\n      <th>14</th>\n      <td>-3.717624</td>\n      <td>80.299035</td>\n      <td>53.742109</td>\n      <td>18.526311</td>\n      <td>-22.046521</td>\n      <td>-2.239822</td>\n      <td>-1.775935</td>\n      <td>6.629840</td>\n      <td>-3.028119</td>\n      <td>-2.038838</td>\n      <td>...</td>\n      <td>0.691567</td>\n      <td>-0.729698</td>\n      <td>-0.450322</td>\n      <td>-1.204038</td>\n      <td>1.256950</td>\n      <td>-1.475726</td>\n      <td>0.054211</td>\n      <td>-0.152628</td>\n      <td>0.171082</td>\n      <td>tpcc_9-43am</td>\n    </tr>\n  </tbody>\n</table>\n<p>15 rows × 41 columns</p>\n</div>"
     },
     "execution_count": 38,
     "metadata": {},
     "output_type": "execute_result"
    }
   ],
   "source": [
    "shift_df"
   ],
   "metadata": {
    "collapsed": false,
    "pycharm": {
     "name": "#%%\n"
    }
   }
  },
  {
   "cell_type": "code",
   "execution_count": 39,
   "outputs": [
    {
     "data": {
      "text/plain": "<Figure size 576x288 with 1 Axes>",
      "image/png": "[encoded data removed]"
     },
     "execution_count": 39,
     "metadata": {},
     "output_type": "execute_result"
    }
   ],
   "source": [
    "shifts.scatter(accel_pc_1[0],accel_pc_1[1], c='tab:red', s=15)\n",
    "#shifts.text(accel_pc_1[0],accel_pc_1[1], str(accel_pc_1['trace']), size=8)\n",
    "shifts.scatter(accel_pc_1['principal_component_1'],accel_pc_1['principal_component_2'], c='tab:blue', s=15, marker='X')\n",
    "shifts.legend(['Accelerated replay', 'Original trace'],\n",
    "              prop={'size': 12})\n",
    "\n",
    "shifts.plot([accel_pc_1[0],accel_pc_1['principal_component_1']],\n",
    "         [accel_pc_1[1],accel_pc_1['principal_component_2']],'k-',\n",
    "         linewidth=0.5)\n",
    "shifts.set_ylim([-20,90])\n",
    "shifts.set_xlim([-20,80])\n",
    "\n",
    "#ax.legend(trace_labels, prop={'size': 15})\n",
    "#shifts.figure.savefig('/home/odesai/figures/acceleration_shifts.png', dpi=500, bbox_inches='tight')\n",
    "fig2"
   ],
   "metadata": {
    "collapsed": false,
    "pycharm": {
     "name": "#%%\n"
    }
   }
  },
  {
   "cell_type": "code",
   "execution_count": 40,
   "outputs": [
    {
     "name": "stdout",
     "output_type": "stream",
     "text": [
      "(2447, 253)\n",
      "Estimated number of clusters: 9\n",
      "Estimated number of noise points: 264\n"
     ]
    },
    {
     "data": {
      "text/plain": "<matplotlib.legend.Legend at 0x7fa70efd73d0>"
     },
     "execution_count": 40,
     "metadata": {},
     "output_type": "execute_result"
    },
    {
     "data": {
      "text/plain": "<Figure size 576x288 with 1 Axes>",
      "image/png": "[encoded data removed]"
     },
     "metadata": {
      "needs_background": "light"
     },
     "output_type": "display_data"
    }
   ],
   "source": [
    "from sklearn.cluster import KMeans, DBSCAN\n",
    "from sklearn import metrics\n",
    "#kmeans = KMeans(n_clusters=10, random_state=0).fit(x)\n",
    "print(x.shape)\n",
    "db = DBSCAN(eps=10, min_samples=10).fit(x)\n",
    "\n",
    "core_samples_mask = np.zeros_like(db.labels_, dtype=bool)\n",
    "core_samples_mask[db.core_sample_indices_] = True\n",
    "labels = db.labels_\n",
    "\n",
    "# Number of clusters in labels, ignoring noise if present.\n",
    "n_clusters_ = len(set(labels)) - (1 if -1 in labels else 0)\n",
    "n_noise_ = list(labels).count(-1)\n",
    "\n",
    "print('Estimated number of clusters: %d' % n_clusters_)\n",
    "print('Estimated number of noise points: %d' % n_noise_)\n",
    "\"\"\"\n",
    "print(\"Homogeneity: %0.3f\" % metrics.homogeneity_score(labels_true, labels))\n",
    "print(\"Completeness: %0.3f\" % metrics.completeness_score(labels_true, labels))\n",
    "print(\"V-measure: %0.3f\" % metrics.v_measure_score(labels_true, labels))\n",
    "print(\"Adjusted Rand Index: %0.3f\"\n",
    "      % metrics.adjusted_rand_score(labels_true, labels))\n",
    "print(\"Adjusted Mutual Information: %0.3f\"\n",
    "      % metrics.adjusted_mutual_info_score(labels_true, labels))\n",
    "print(\"Silhouette Coefficient: %0.3f\"\n",
    "      % metrics.silhouette_score(X, labels))\n",
    "\"\"\"\n",
    "\n",
    "\n",
    "\n",
    "kmeans = KMeans(n_clusters=4, random_state=1).fit(principalDf)\n",
    "y_means=kmeans.predict(principalDf)\n",
    "#principalDf\n",
    "fig2 = plt.figure(figsize=(8,4))\n",
    "\n",
    "plt = fig2.add_subplot(1, 1, 1)\n",
    "#shifts.set_xlabel('Principal Component 1', fontsize=10)\n",
    "#shifts.set_ylabel('Principal Component 2', fontsize=10)\n",
    "\n",
    "plt.set_xlabel('Principal Component 1', fontsize=12)\n",
    "plt.set_ylabel('Principal Component 2', fontsize=12)\n",
    "#plt.scatter(x[:,0], x[:,1], c=y_means, s=10, cmap='viridis')\n",
    "#plt.subplots(figsize=(8, 8))\n",
    "colors = ['orange', 'green', 'blue', 'purple']\n",
    "for i, col in zip(np.unique(y_means),colors):\n",
    "    a= y_means == i\n",
    "    plt.scatter(principalDf.loc[a,0],\n",
    "                   principalDf.loc[a,1], label=i)\n",
    "                #c=col, s=12)\n",
    "    #, cmap='viridis', label=i)\n",
    "centers = kmeans.cluster_centers_\n",
    "#plt.scatter(centers[:,0], centers[:,1], c='red', s=8, alpha=0.5)\n",
    "plt.tick_params(axis='both', which='major', labelsize=12)\n",
    "plt.set_ylim([-20,90])\n",
    "plt.set_xlim([-20,80])\n",
    "\n",
    "import matplotlib.patches as mpatches\n",
    "#plt.legend(['Cluster 1', 'Cluster 2', 'Cluster 3', 'Cluster 4'],\n",
    "#           prop={'size': 12})\n",
    "plt.legend()\n",
    "#yellow_patch = mpatches.Circle((0,0), 1,color='yellow', label='Cluster 1')\n",
    "#pur_patch = mpatches.Clicle((0,0), 1,color='purple', label='Cluster 4')\n",
    "#green_patch = mpatches.Clicle((0,0), 1,color='green', label='Cluster 3')\n",
    "#blue_patch = mpatches.Clicle((0,0), 1,color='blue', label='Cluster 2')\n",
    "\n",
    "#plt.legend(handles=[yellow_patch, pur_patch,green_patch,blue_patch])\n",
    "#plt.title(\"trace recommendataion\", fontsize=34)"
   ],
   "metadata": {
    "collapsed": false,
    "pycharm": {
     "name": "#%%\n"
    }
   }
  },
  {
   "cell_type": "code",
   "execution_count": 41,
   "outputs": [
    {
     "data": {
      "text/plain": "array([0, 1, 2, 3], dtype=int32)"
     },
     "execution_count": 41,
     "metadata": {},
     "output_type": "execute_result"
    }
   ],
   "source": [
    "np.unique(y_means)"
   ],
   "metadata": {
    "collapsed": false,
    "pycharm": {
     "name": "#%%\n"
    }
   }
  },
  {
   "cell_type": "code",
   "execution_count": 41,
   "outputs": [],
   "source": [],
   "metadata": {
    "collapsed": false,
    "pycharm": {
     "name": "#%%\n"
    }
   }
  },
  {
   "cell_type": "code",
   "execution_count": 42,
   "outputs": [],
   "source": [
    "plt.figure.savefig('/home/odesai/figures/k_means.png', dpi=500, bbox_inches='tight')"
   ],
   "metadata": {
    "collapsed": false,
    "pycharm": {
     "name": "#%%\n"
    }
   }
  },
  {
   "cell_type": "code",
   "execution_count": 43,
   "outputs": [],
   "source": [
    "clustered_traces=pd.DataFrame(y_means)\n",
    "clustered_traces['trace'] = df['trace']\n",
    "clustered_traces.to_csv('/home/odesai/clustered_traces.csv')"
   ],
   "metadata": {
    "collapsed": false,
    "pycharm": {
     "name": "#%%\n"
    }
   }
  },
  {
   "cell_type": "code",
   "execution_count": 44,
   "outputs": [
    {
     "name": "stdout",
     "output_type": "stream",
     "text": [
      "-17.69262673404147 62.224060888764384\n",
      "-9.447941375845845 81.03996983740498\n"
     ]
    }
   ],
   "source": [
    "finalDf.to_csv(\"/home/odesai/finaldf.csv\")\n",
    "print(finalDf['principal_component_1'].min(),finalDf['principal_component_1'].max())\n",
    "print(finalDf['principal_component_2'].min(),finalDf['principal_component_2'].max())"
   ],
   "metadata": {
    "collapsed": false,
    "pycharm": {
     "name": "#%%\n"
    }
   }
  },
  {
   "cell_type": "code",
   "execution_count": 45,
   "outputs": [
    {
     "data": {
      "text/plain": "           PC-1       PC-2      PC-3 trace_label  \\\n0     -2.902925  10.331701 -8.247577    ssdtrace   \n1     -2.968941  10.461218 -8.300439    ssdtrace   \n2     -3.078306  10.352380 -8.289009    ssdtrace   \n3     -2.944112  10.353097 -8.260052    ssdtrace   \n4     -3.313559  11.414050 -7.865074    ssdtrace   \n...         ...        ...       ...         ...   \n2442   6.752623  -0.594629  3.519206      ms-ent   \n2443  10.494170  -1.820766  5.502276      ms-ent   \n2444   5.671244   2.905700  3.273002      ms-ent   \n2445   6.967382   2.257613  3.720377      ms-ent   \n2446   7.952572  -1.042119  4.719997      ms-ent   \n\n                                   trace  \n0                            ssdtrace-13  \n1                            ssdtrace-09  \n2                            ssdtrace-16  \n3                            ssdtrace-21  \n4                            ssdtrace-01  \n...                                  ...  \n2442  Exchange_12-12-2007_08-12-PM_trace  \n2443  Exchange_12-12-2007_11-29-PM_trace  \n2444  Exchange_12-13-2007_10-50-AM_trace  \n2445  Exchange_12-13-2007_08-34-AM_trace  \n2446  Exchange_12-12-2007_06-41-PM_trace  \n\n[2447 rows x 5 columns]",
      "text/html": "<div>\n<style scoped>\n    .dataframe tbody tr th:only-of-type {\n        vertical-align: middle;\n    }\n\n    .dataframe tbody tr th {\n        vertical-align: top;\n    }\n\n    .dataframe thead th {\n        text-align: right;\n    }\n</style>\n<table border=\"1\" class=\"dataframe\">\n  <thead>\n    <tr style=\"text-align: right;\">\n      <th></th>\n      <th>PC-1</th>\n      <th>PC-2</th>\n      <th>PC-3</th>\n      <th>trace_label</th>\n      <th>trace</th>\n    </tr>\n  </thead>\n  <tbody>\n    <tr>\n      <th>0</th>\n      <td>-2.902925</td>\n      <td>10.331701</td>\n      <td>-8.247577</td>\n      <td>ssdtrace</td>\n      <td>ssdtrace-13</td>\n    </tr>\n    <tr>\n      <th>1</th>\n      <td>-2.968941</td>\n      <td>10.461218</td>\n      <td>-8.300439</td>\n      <td>ssdtrace</td>\n      <td>ssdtrace-09</td>\n    </tr>\n    <tr>\n      <th>2</th>\n      <td>-3.078306</td>\n      <td>10.352380</td>\n      <td>-8.289009</td>\n      <td>ssdtrace</td>\n      <td>ssdtrace-16</td>\n    </tr>\n    <tr>\n      <th>3</th>\n      <td>-2.944112</td>\n      <td>10.353097</td>\n      <td>-8.260052</td>\n      <td>ssdtrace</td>\n      <td>ssdtrace-21</td>\n    </tr>\n    <tr>\n      <th>4</th>\n      <td>-3.313559</td>\n      <td>11.414050</td>\n      <td>-7.865074</td>\n      <td>ssdtrace</td>\n      <td>ssdtrace-01</td>\n    </tr>\n    <tr>\n      <th>...</th>\n      <td>...</td>\n      <td>...</td>\n      <td>...</td>\n      <td>...</td>\n      <td>...</td>\n    </tr>\n    <tr>\n      <th>2442</th>\n      <td>6.752623</td>\n      <td>-0.594629</td>\n      <td>3.519206</td>\n      <td>ms-ent</td>\n      <td>Exchange_12-12-2007_08-12-PM_trace</td>\n    </tr>\n    <tr>\n      <th>2443</th>\n      <td>10.494170</td>\n      <td>-1.820766</td>\n      <td>5.502276</td>\n      <td>ms-ent</td>\n      <td>Exchange_12-12-2007_11-29-PM_trace</td>\n    </tr>\n    <tr>\n      <th>2444</th>\n      <td>5.671244</td>\n      <td>2.905700</td>\n      <td>3.273002</td>\n      <td>ms-ent</td>\n      <td>Exchange_12-13-2007_10-50-AM_trace</td>\n    </tr>\n    <tr>\n      <th>2445</th>\n      <td>6.967382</td>\n      <td>2.257613</td>\n      <td>3.720377</td>\n      <td>ms-ent</td>\n      <td>Exchange_12-13-2007_08-34-AM_trace</td>\n    </tr>\n    <tr>\n      <th>2446</th>\n      <td>7.952572</td>\n      <td>-1.042119</td>\n      <td>4.719997</td>\n      <td>ms-ent</td>\n      <td>Exchange_12-12-2007_06-41-PM_trace</td>\n    </tr>\n  </tbody>\n</table>\n<p>2447 rows × 5 columns</p>\n</div>"
     },
     "execution_count": 45,
     "metadata": {},
     "output_type": "execute_result"
    }
   ],
   "source": [
    "#3 component PCA - dataframe  = df_3pc\n",
    "\n",
    "#x = StandardScaler().fit_transform(x)\n",
    "pca = PCA(n_components=3)\n",
    "x = np.nan_to_num(x)\n",
    "principalComponents = pca.fit_transform(x)\n",
    "principalDf_3pc = pd.DataFrame(data = principalComponents, columns = [\n",
    "    'PC-1',\n",
    "    'PC-2',\n",
    "    'PC-3']\n",
    "                               )\n",
    "finalDf_3pc = pd.concat([principalDf_3pc, df[['trace_label', 'trace']]], axis = 1)\n",
    "finalDf_3pc"
   ],
   "metadata": {
    "collapsed": false,
    "pycharm": {
     "name": "#%%\n"
    }
   }
  },
  {
   "cell_type": "code",
   "execution_count": 46,
   "outputs": [
    {
     "name": "stdout",
     "output_type": "stream",
     "text": [
      "[47.16034947 34.6173951  26.66240921]\n",
      "[0.18632837 0.13677173 0.10534195]\n",
      "0.4284420483279846\n"
     ]
    }
   ],
   "source": [
    "print(pca.explained_variance_)\n",
    "print(pca.explained_variance_ratio_)\n",
    "print(sum(pca.explained_variance_ratio_))"
   ],
   "metadata": {
    "collapsed": false,
    "pycharm": {
     "name": "#%%\n"
    }
   }
  },
  {
   "cell_type": "code",
   "execution_count": 47,
   "outputs": [
    {
     "ename": "TypeError",
     "evalue": "'Figure' object is not callable",
     "output_type": "error",
     "traceback": [
      "\u001B[0;31m---------------------------------------------------------------------------\u001B[0m",
      "\u001B[0;31mTypeError\u001B[0m                                 Traceback (most recent call last)",
      "\u001B[0;32m/tmp/ipykernel_360156/1318214193.py\u001B[0m in \u001B[0;36m<module>\u001B[0;34m\u001B[0m\n\u001B[0;32m----> 1\u001B[0;31m \u001B[0mfig\u001B[0m \u001B[0;34m=\u001B[0m \u001B[0mplt\u001B[0m\u001B[0;34m.\u001B[0m\u001B[0mfigure\u001B[0m\u001B[0;34m(\u001B[0m\u001B[0mfigsize\u001B[0m\u001B[0;34m=\u001B[0m\u001B[0;34m(\u001B[0m\u001B[0;36m20\u001B[0m\u001B[0;34m,\u001B[0m\u001B[0;36m20\u001B[0m\u001B[0;34m)\u001B[0m\u001B[0;34m,\u001B[0m \u001B[0mdpi\u001B[0m\u001B[0;34m=\u001B[0m\u001B[0;36m50\u001B[0m\u001B[0;34m)\u001B[0m\u001B[0;34m\u001B[0m\u001B[0;34m\u001B[0m\u001B[0m\n\u001B[0m\u001B[1;32m      2\u001B[0m \u001B[0mdx\u001B[0m \u001B[0;34m=\u001B[0m \u001B[0mfig\u001B[0m\u001B[0;34m.\u001B[0m\u001B[0madd_subplot\u001B[0m\u001B[0;34m(\u001B[0m\u001B[0mprojection\u001B[0m\u001B[0;34m=\u001B[0m\u001B[0;34m'3d'\u001B[0m\u001B[0;34m)\u001B[0m\u001B[0;34m\u001B[0m\u001B[0;34m\u001B[0m\u001B[0m\n\u001B[1;32m      3\u001B[0m \u001B[0;34m\u001B[0m\u001B[0m\n\u001B[1;32m      4\u001B[0m \u001B[0mdx\u001B[0m\u001B[0;34m.\u001B[0m\u001B[0mset_xlabel\u001B[0m\u001B[0;34m(\u001B[0m\u001B[0;34m'PC-1'\u001B[0m\u001B[0;34m,\u001B[0m \u001B[0mfontsize\u001B[0m\u001B[0;34m=\u001B[0m\u001B[0;36m12\u001B[0m\u001B[0;34m)\u001B[0m\u001B[0;34m\u001B[0m\u001B[0;34m\u001B[0m\u001B[0m\n\u001B[1;32m      5\u001B[0m \u001B[0mdx\u001B[0m\u001B[0;34m.\u001B[0m\u001B[0mset_ylabel\u001B[0m\u001B[0;34m(\u001B[0m\u001B[0;34m'PC-2'\u001B[0m\u001B[0;34m,\u001B[0m \u001B[0mfontsize\u001B[0m\u001B[0;34m=\u001B[0m\u001B[0;36m12\u001B[0m\u001B[0;34m)\u001B[0m\u001B[0;34m\u001B[0m\u001B[0;34m\u001B[0m\u001B[0m\n",
      "\u001B[0;31mTypeError\u001B[0m: 'Figure' object is not callable"
     ]
    }
   ],
   "source": [
    "fig = plt.figure(figsize=(20,20), dpi=50)\n",
    "dx = fig.add_subplot(projection='3d')\n",
    "\n",
    "dx.set_xlabel('PC-1', fontsize=12)\n",
    "dx.set_ylabel('PC-2', fontsize=12)\n",
    "dx.set_zlabel('PC-3', fontsize=12)\n",
    "dx.set_title('3 Component PCA', fontsize=20)"
   ],
   "metadata": {
    "collapsed": false,
    "pycharm": {
     "name": "#%%\n"
    }
   }
  },
  {
   "cell_type": "code",
   "execution_count": null,
   "outputs": [],
   "source": [
    "for trace_label, color in zip(trace_labels, colors):\n",
    "    indicesToKeep = finalDf_3pc['trace_label'] == trace_label\n",
    "    dx.scatter(finalDf_3pc.loc[indicesToKeep, 'PC-1'],\n",
    "               finalDf_3pc.loc[indicesToKeep, 'PC-2'],\n",
    "               finalDf_3pc.loc[indicesToKeep, 'PC-3'],\n",
    "               c=color,\n",
    "               s=50)\n",
    "ax.legend(trace_labels)\n",
    "ax.grid()\n",
    "#plt.show()\n",
    "fig"
   ],
   "metadata": {
    "collapsed": false,
    "pycharm": {
     "name": "#%%\n"
    }
   }
  },
  {
   "cell_type": "code",
   "execution_count": null,
   "outputs": [],
   "source": [
    "# n-dimentional PCA\n",
    "pca_explained_variances = []\n",
    "for i in range(2, 30):\n",
    "    x = StandardScaler().fit_transform(x)\n",
    "    pd.DataFrame(data = x, columns = features).head()\n",
    "    num_dimensions = i\n",
    "    pca = PCA(n_components=num_dimensions)\n",
    "    cols = [\"PC-\"+str(i+1) for i in range(num_dimensions)]\n",
    "    x = np.nan_to_num(x)\n",
    "    principalComponents = pca.fit_transform(x)\n",
    "    principalDf_3pc = pd.DataFrame(data = principalComponents, columns = cols\n",
    "                                   )\n",
    "    finalDf_3pc = pd.concat([principalDf_3pc, df[['trace_label','trace']]], axis = 1)\n",
    "\n",
    "\n",
    "\n",
    "    #print(pca.explained_variance_)\n",
    "    #print(pca.explained_variance_ratio_)\n",
    "    pca_explained_variances.append(sum(pca.explained_variance_ratio_))\n",
    "#pca_explained_variances"
   ],
   "metadata": {
    "collapsed": false,
    "pycharm": {
     "name": "#%%\n"
    }
   }
  },
  {
   "cell_type": "code",
   "execution_count": null,
   "outputs": [],
   "source": [
    "#print(pca.explained_variance_ratio_)\n",
    "#print(len(pca.explained_variance_ratio_))\n",
    "plt.bar([i for i in range(20)], pca.explained_variance_ratio_[:20])\n",
    "plt.ylabel('variance captured')\n",
    "plt.xlabel('number of components')\n",
    "\n",
    "plt.show()"
   ],
   "metadata": {
    "collapsed": false,
    "pycharm": {
     "name": "#%%\n"
    }
   }
  },
  {
   "cell_type": "code",
   "execution_count": null,
   "outputs": [],
   "source": [
    "plt.plot(pca_explained_variances)\n",
    "plt.ylabel('variance captured')\n",
    "plt.xlabel('number of components')\n",
    "\n",
    "plt.show()"
   ],
   "metadata": {
    "collapsed": false,
    "pycharm": {
     "name": "#%%\n"
    }
   }
  },
  {
   "cell_type": "code",
   "execution_count": null,
   "outputs": [],
   "source": [
    "finalDf_3pc"
   ],
   "metadata": {
    "collapsed": false,
    "pycharm": {
     "name": "#%%\n"
    }
   }
  },
  {
   "cell_type": "code",
   "execution_count": null,
   "outputs": [],
   "source": [
    "from scipy.cluster.hierarchy import linkage\n",
    "from scipy.cluster.hierarchy import dendrogram\n",
    "# single linkage\n",
    "#trace_label_list = list(finalDf_3pc['trace'])\n",
    "#shortlisted_traces =[\"ssdtrace-08\", \"ssdtrace-06\", \"ssdtrace-00\", \"2016022619-LUN0\", \"cassandra\", \"elasticsearch\", \"mysql\",\n",
    "#            \"nginx\", \"2016022212-LUN3\", \"2016022314-LUN0\", \"hm_0\", \"wdev_0\", \"web_1\"]\n",
    "shortlisted_traces = [\"ssdtrace-06\", \"ssdtrace-00\",\"ssdtrace-08\",\n",
    "                      \"2016022619-LUN0\",\"2016022212-LUN3\", \"2016022314-LUN0\",\n",
    "                      \"mysql\",\"cassandra\", \"elasticsearch\",  \"nginx\",\n",
    "                      \"24Hour_RADIUS_08-28-2007_04-47-PM\",\n",
    "                      \"DevDivRelease_03-06-2008_01-20-AM_trace\"]#,\n",
    "                      #\"BuildServer_11-28-2007_07-55-PM_trace\"]\n",
    "                      #\"BuildServer_11-28-2007_07-55-PM_trace\"]#,\n",
    "                      #\"W2K8_TPCC_10-19-2007_03-48-PM_trace\",\n",
    "                      #\"W2K8_TPCC_10-19-2007_03-57-PM_trace\",\n",
    "                      #\"W2K8_TPCC_10-19-2007_04-01-PM_trace\"]\n",
    "trace_label_list = shortlisted_traces\n",
    "dendro_df_short = finalDf_3pc[finalDf_3pc['trace'].isin(shortlisted_traces)]\n",
    "\n",
    "dendro_df = dendro_df_short.drop(['trace_label', 'trace'], axis=1)\n",
    "#dendro_df = finalDf_3pc.drop(['trace_label', 'trace'], axis=1)\n",
    "sl_mergings = linkage(dendro_df,  method=\"single\", metric='euclidean')\n",
    "dendrogram(sl_mergings, labels=trace_label_list, color_threshold=10, leaf_rotation=90.0)\n",
    "plt.show()"
   ],
   "metadata": {
    "collapsed": false,
    "pycharm": {
     "name": "#%%\n"
    }
   }
  },
  {
   "cell_type": "code",
   "execution_count": null,
   "outputs": [],
   "source": [
    "dendro_df_short\n"
   ],
   "metadata": {
    "collapsed": false,
    "pycharm": {
     "name": "#%%\n"
    }
   }
  },
  {
   "cell_type": "code",
   "execution_count": null,
   "outputs": [],
   "source": [
    "# single linkage\n",
    "sl_mergings = linkage(dendro_df, method=\"single\", metric='euclidean')\n",
    "dendrogram(sl_mergings, labels=trace_label_list)\n",
    "plt.show(block=True)"
   ],
   "metadata": {
    "collapsed": false,
    "pycharm": {
     "name": "#%%\n"
    }
   }
  },
  {
   "cell_type": "code",
   "execution_count": null,
   "outputs": [],
   "source": [
    "from sklearn.cluster import KMeans, DBSCAN\n",
    "from sklearn import metrics\n",
    "#kmeans = KMeans(n_clusters=10, random_state=0).fit(x)\n",
    "print(x.shape)\n",
    "db = DBSCAN(eps=10, min_samples=10).fit(x)\n",
    "\n",
    "core_samples_mask = np.zeros_like(db.labels_, dtype=bool)\n",
    "core_samples_mask[db.core_sample_indices_] = True\n",
    "labels = db.labels_\n",
    "\n",
    "# Number of clusters in labels, ignoring noise if present.\n",
    "n_clusters_ = len(set(labels)) - (1 if -1 in labels else 0)\n",
    "n_noise_ = list(labels).count(-1)\n",
    "\n",
    "print('Estimated number of clusters: %d' % n_clusters_)\n",
    "print('Estimated number of noise points: %d' % n_noise_)\n",
    "\"\"\"\n",
    "print(\"Homogeneity: %0.3f\" % metrics.homogeneity_score(labels_true, labels))\n",
    "print(\"Completeness: %0.3f\" % metrics.completeness_score(labels_true, labels))\n",
    "print(\"V-measure: %0.3f\" % metrics.v_measure_score(labels_true, labels))\n",
    "print(\"Adjusted Rand Index: %0.3f\"\n",
    "      % metrics.adjusted_rand_score(labels_true, labels))\n",
    "print(\"Adjusted Mutual Information: %0.3f\"\n",
    "      % metrics.adjusted_mutual_info_score(labels_true, labels))\n",
    "print(\"Silhouette Coefficient: %0.3f\"\n",
    "      % metrics.silhouette_score(X, labels))\n",
    "\"\"\""
   ],
   "metadata": {
    "collapsed": false,
    "pycharm": {
     "name": "#%%\n"
    }
   }
  },
  {
   "cell_type": "code",
   "execution_count": null,
   "outputs": [],
   "source": [
    "kmeans = KMeans(n_clusters=8).fit(principalDf)\n",
    "y_means=kmeans.predict(principalDf)\n",
    "principalDf"
   ],
   "metadata": {
    "collapsed": false,
    "pycharm": {
     "name": "#%%\n"
    }
   }
  },
  {
   "cell_type": "code",
   "execution_count": null,
   "outputs": [],
   "source": [
    "#plt.scatter(x[:,0], x[:,1], c=y_means, s=10, cmap='viridis')\n",
    "plt.subplots(figsize=(15, 15))\n",
    "plt.scatter(principalDf[0],\n",
    "               principalDf[1],\n",
    "            c=y_means, s=8, cmap='viridis')\n",
    "centers = kmeans.cluster_centers_\n",
    "plt.scatter(centers[:,0], centers[:,1], c='black', s=300, alpha=0.5)\n",
    "plt.tick_params(axis='both', which='major', labelsize=30)\n",
    "\n",
    "plt.title(\"trace recommendataion\", fontsize=34)"
   ],
   "metadata": {
    "collapsed": false,
    "pycharm": {
     "name": "#%%\n"
    }
   }
  },
  {
   "cell_type": "code",
   "execution_count": null,
   "outputs": [],
   "source": [
    "unique_labels = set(labels)\n",
    "colors = [plt.cm.Spectral(each)\n",
    "          for each in np.linspace(0, 1, len(unique_labels))]\n",
    "for k, col in zip(unique_labels, colors):\n",
    "    if k == -1:\n",
    "        # Black used for noise.\n",
    "        col = [0, 0, 0, 1]\n",
    "\n",
    "    class_member_mask = (labels == k)\n",
    "\n",
    "    xy = x[class_member_mask & core_samples_mask]\n",
    "    plt.plot(xy[:, 0], xy[:, 1], 'o', markerfacecolor=tuple(col),\n",
    "             markeredgecolor='k', markersize=14)\n",
    "\n",
    "    xy = x[class_member_mask & ~core_samples_mask]\n",
    "    plt.plot(xy[:, 0], xy[:, 1], 'o', markerfacecolor=tuple(col),\n",
    "             markeredgecolor='k', markersize=6)\n",
    "\n",
    "plt.title(\"raw data, DBSCAN, num clusters=%d\" %n_clusters_ )\n",
    "plt.show()\n"
   ],
   "metadata": {
    "collapsed": false,
    "pycharm": {
     "name": "#%%\n"
    }
   }
  },
  {
   "cell_type": "code",
   "execution_count": null,
   "outputs": [],
   "source": [
    "kmeans = KMeans(n_clusters=3).fit(principalDf)\n",
    "y_means=kmeans.predict(principalDf)"
   ],
   "metadata": {
    "collapsed": false,
    "pycharm": {
     "name": "#%%\n"
    }
   }
  },
  {
   "cell_type": "code",
   "execution_count": null,
   "outputs": [],
   "source": [
    "plt.scatter(x[:,0], x[:,1])\n",
    "centers = kmeans.cluster_centers_\n",
    "#plt.scatter(centers[:,0], centers[:,1], c='black', s=200, alpha=0.5)\n",
    "plt.title(\"30-principal components, kmeans n_clusters=3\")\n",
    "\n",
    "#--------------------------------------------------------"
   ],
   "metadata": {
    "collapsed": false,
    "pycharm": {
     "name": "#%%\n"
    }
   }
  },
  {
   "cell_type": "code",
   "execution_count": null,
   "outputs": [],
   "source": [
    "kmeans = KMeans(n_clusters=6).fit(x)\n",
    "y_means=kmeans.predict(x)"
   ],
   "metadata": {
    "collapsed": false,
    "pycharm": {
     "name": "#%%\n"
    }
   }
  },
  {
   "cell_type": "code",
   "execution_count": null,
   "outputs": [],
   "source": [
    "plt.scatter(x[:,0], x[:,1], c=y_means, s=10, cmap='viridis')\n",
    "centers = kmeans.cluster_centers_\n",
    "plt.scatter(centers[:,0], centers[:,1], c='black', s=200, alpha=0.5)\n",
    "plt.title(\"raw data, kmeans n_clusters=6\")"
   ],
   "metadata": {
    "collapsed": false,
    "pycharm": {
     "name": "#%%\n"
    }
   }
  },
  {
   "cell_type": "code",
   "execution_count": null,
   "outputs": [],
   "source": [
    "kmeans = KMeans(n_clusters=9).fit(x)\n",
    "y_means=kmeans.predict(x)"
   ],
   "metadata": {
    "collapsed": false,
    "pycharm": {
     "name": "#%%\n"
    }
   }
  },
  {
   "cell_type": "code",
   "execution_count": null,
   "outputs": [],
   "source": [
    "plt.scatter(x[:,0], x[:,1], c=y_means, s=10, cmap='viridis')\n",
    "centers = kmeans.cluster_centers_\n",
    "plt.scatter(centers[:,0], centers[:,1], c='black', s=200, alpha=0.5)\n",
    "plt.title(\"raw data, kmeans n_clusters=9\")"
   ],
   "metadata": {
    "collapsed": false,
    "pycharm": {
     "name": "#%%\n"
    }
   }
  },
  {
   "cell_type": "code",
   "execution_count": null,
   "outputs": [],
   "source": [
    "kmeans = KMeans(n_clusters=12).fit(x)\n",
    "y_means=kmeans.predict(x)"
   ],
   "metadata": {
    "collapsed": false,
    "pycharm": {
     "name": "#%%\n"
    }
   }
  },
  {
   "cell_type": "code",
   "execution_count": null,
   "outputs": [],
   "source": [
    "plt.scatter(x[:,0], x[:,1], c=y_means, s=10, cmap='viridis')\n",
    "centers = kmeans.cluster_centers_\n",
    "plt.scatter(centers[:,0], centers[:,1], c='black', s=200, alpha=0.5)\n",
    "plt.title(\"raw data, kmeans n_clusters=12\")"
   ],
   "metadata": {
    "collapsed": false,
    "pycharm": {
     "name": "#%%\n"
    }
   }
  },
  {
   "cell_type": "code",
   "execution_count": null,
   "outputs": [],
   "source": [
    "kmeans = KMeans(n_clusters=15).fit(x)\n",
    "y_means=kmeans.predict(x)"
   ],
   "metadata": {
    "collapsed": false,
    "pycharm": {
     "name": "#%%\n"
    }
   }
  },
  {
   "cell_type": "code",
   "execution_count": null,
   "outputs": [],
   "source": [
    "plt.scatter(x[:,0], x[:,1], c=y_means, s=10, cmap='viridis')\n",
    "centers = kmeans.cluster_centers_\n",
    "plt.scatter(centers[:,0], centers[:,1], c='black', s=200, alpha=0.5)\n",
    "plt.title(\"raw data, kmeans n_clusters=15\")"
   ],
   "metadata": {
    "collapsed": false,
    "pycharm": {
     "name": "#%%\n"
    }
   }
  },
  {
   "cell_type": "code",
   "execution_count": null,
   "outputs": [],
   "source": [
    "kmeans = KMeans(n_clusters=20).fit(x)\n",
    "y_means=kmeans.predict(x)"
   ],
   "metadata": {
    "collapsed": false,
    "pycharm": {
     "name": "#%%\n"
    }
   }
  },
  {
   "cell_type": "code",
   "execution_count": null,
   "outputs": [],
   "source": [
    "plt.scatter(x[:,0], x[:,1], c=y_means, s=10, cmap='viridis')\n",
    "centers = kmeans.cluster_centers_\n",
    "plt.scatter(centers[:,0], centers[:,1], c='black', s=200, alpha=0.5)\n",
    "plt.title(\"raw data, kmeans n_clusters=20\")\n",
    "\n",
    "\n",
    "\n"
   ],
   "metadata": {
    "collapsed": false,
    "pycharm": {
     "name": "#%%\n"
    }
   }
  }
 ],
 "metadata": {
  "kernelspec": {
   "display_name": "Python 3",
   "language": "python",
   "name": "python3"
  },
  "language_info": {
   "codemirror_mode": {
    "name": "ipython",
    "version": 2
   },
   "file_extension": ".py",
   "mimetype": "text/x-python",
   "name": "python",
   "nbconvert_exporter": "python",
   "pygments_lexer": "ipython2",
   "version": "2.7.6"
  }
 },
 "nbformat": 4,
 "nbformat_minor": 0
}